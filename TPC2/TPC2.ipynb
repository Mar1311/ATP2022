{
 "cells": [
  {
   "cell_type": "markdown",
   "id": "1e545158",
   "metadata": {},
   "source": [
    "# Aula Prática 2 (guião)\n",
    "### Semana de 26 a 30 de Setembro de 2022\n",
    "### José Carlos Ramalho e Luís Cunha\n",
    "### Sinopsis:\n",
    "Algoritmos de cálculo numérico envolvendo estruturas condicionais (if-elif-else) e cíclicas (while)."
   ]
  },
  {
   "cell_type": "markdown",
   "id": "e38d18c4-d7d7-4fea-9bc6-e3f3c903386b",
   "metadata": {},
   "source": [
    "### Exercício 1: Soma de N números\n",
    "- Leia um número N;\n",
    "- Leia N números;\n",
    "- Imprima a soma dos N números."
   ]
  },
  {
   "cell_type": "code",
   "execution_count": 54,
   "id": "59263646",
   "metadata": {},
   "outputs": [
    {
     "name": "stdout",
     "output_type": "stream",
     "text": [
      "5\n",
      "306\n"
     ]
    }
   ],
   "source": [
    "# Solução exercício 1\n",
    "n = int(input (\"insira um numero n\"))\n",
    "print(n)\n",
    "soma = 0\n",
    "while(n>0):\n",
    "   num = int(input(\"insira um valor\"))\n",
    "   soma = soma + num\n",
    "   n = n - 1\n",
    "print(soma)\n"
   ]
  },
  {
   "cell_type": "markdown",
   "id": "bdcbffb0",
   "metadata": {},
   "source": [
    "### Exercício 2: O Maior de N números\n",
    "- Leia um número N;\n",
    "- Leia N números;\n",
    "- Imprima o maior dos N números."
   ]
  },
  {
   "cell_type": "code",
   "execution_count": 53,
   "id": "af973146-3bb4-4fa8-ba6c-b887b79ccff8",
   "metadata": {},
   "outputs": [
    {
     "name": "stdout",
     "output_type": "stream",
     "text": [
      "o maximo é 84\n",
      "[65, 84, 12]\n"
     ]
    }
   ],
   "source": [
    "# Solução do exercício 2\n",
    "lst = []\n",
    "\n",
    "num = int(input(\"quantos numeros\"))\n",
    "\n",
    "for n in range(num):\n",
    "    numbers = int(input(\"coloca um numero\"))\n",
    "    lst.append(numbers)\n",
    "\n",
    "print(\"o maximo é\", max(lst))\n",
    "print(lst)"
   ]
  },
  {
   "cell_type": "markdown",
   "id": "bdcbffb0",
   "metadata": {},
   "source": [
    "### Exercício 3: O Menor de N números\n",
    "- Leia um número N;\n",
    "- Leia N números;\n",
    "- Imprima o menor dos N números."
   ]
  },
  {
   "cell_type": "code",
   "execution_count": 52,
   "id": "1b6c6f73",
   "metadata": {},
   "outputs": [
    {
     "name": "stdout",
     "output_type": "stream",
     "text": [
      "o minimo é 12\n",
      "[45, 75, 12, 32]\n"
     ]
    }
   ],
   "source": [
    "#solução exercício 3\n",
    "lst = []\n",
    "\n",
    "num = int(input(\"quantos numeros\"))\n",
    "\n",
    "for n in range(num):\n",
    "    numbers = int(input(\"coloca um número\"))\n",
    "    lst.append(numbers)\n",
    "print(\"o minimo é\", min(lst))\n",
    "print(lst)"
   ]
  },
  {
   "cell_type": "markdown",
   "id": "bdcbffb0",
   "metadata": {},
   "source": [
    "### Exercício 4: A Média de N números\n",
    "- Leia um número N;\n",
    "- Leia N números;\n",
    "- Imprima a média dos N números."
   ]
  },
  {
   "cell_type": "code",
   "execution_count": 51,
   "id": "a6c32b2e",
   "metadata": {},
   "outputs": [
    {
     "name": "stdout",
     "output_type": "stream",
     "text": [
      "a média é 61\n",
      "[56, 45, 82]\n"
     ]
    }
   ],
   "source": [
    "# Solução do exercício 4\n",
    "from statistics import mean\n",
    "\n",
    "\n",
    "lst = []\n",
    "\n",
    "num = int(input(\"quantos numeros\"))\n",
    "\n",
    "for n in range(num):\n",
    "    numbers = int(input(\"coloca um numero\"))\n",
    "    lst.append(numbers)\n",
    "\n",
    "print(\"a média é\", mean(lst))\n",
    "print(lst)"
   ]
  },
  {
   "cell_type": "markdown",
   "id": "f41ef69b",
   "metadata": {},
   "source": [
    "### Exercício 5: Potência\n",
    "- Defina uma função **pot** que recebe dois parâmetros, **a** e **b**, e retorna o resultado de **a elevado à potência de b**.\n",
    "- Use esta função para escrever no monitor as potências de 2 com expoentes de 1 a 20."
   ]
  },
  {
   "cell_type": "code",
   "execution_count": 3,
   "id": "86f5b24d",
   "metadata": {},
   "outputs": [
    {
     "name": "stdout",
     "output_type": "stream",
     "text": [
      "O resultado de 2 elevado a 1 é: 2\n",
      "O resultado de 2 elevado a 2 é: 4\n",
      "O resultado de 2 elevado a 3 é: 8\n",
      "O resultado de 2 elevado a 4 é: 16\n",
      "O resultado de 2 elevado a 5 é: 32\n",
      "O resultado de 2 elevado a 6 é: 64\n",
      "O resultado de 2 elevado a 7 é: 128\n",
      "O resultado de 2 elevado a 8 é: 256\n",
      "O resultado de 2 elevado a 9 é: 512\n",
      "O resultado de 2 elevado a 10 é: 1024\n",
      "O resultado de 2 elevado a 11 é: 2048\n",
      "O resultado de 2 elevado a 12 é: 4096\n",
      "O resultado de 2 elevado a 13 é: 8192\n",
      "O resultado de 2 elevado a 14 é: 16384\n",
      "O resultado de 2 elevado a 15 é: 32768\n",
      "O resultado de 2 elevado a 16 é: 65536\n",
      "O resultado de 2 elevado a 17 é: 131072\n",
      "O resultado de 2 elevado a 18 é: 262144\n",
      "O resultado de 2 elevado a 19 é: 524288\n",
      "O resultado de 2 elevado a 20 é: 1048576\n"
     ]
    }
   ],
   "source": [
    "# Solução do exercício 5\n",
    "def pot(a,b):\n",
    "    return a**b\n",
    "\n",
    "for n in range(1,21):\n",
    "    print(\"O resultado de 2 elevado a\", n, \"é:\", pot(2,n))\n"
   ]
  },
  {
   "cell_type": "markdown",
   "id": "d11cdd11",
   "metadata": {},
   "source": [
    "### Exercício 6: Série numérica\n",
    "- Defina uma função **serie** que recebe três parâmetros, **base**, **salto** e **nelems**, e escreve no monitor a série;\n",
    "- Invocada com: **serie(7, 4, 5)** escreveria: 7, 11, 15, 19, 23"
   ]
  },
  {
   "cell_type": "code",
   "execution_count": 65,
   "id": "7549c7d7",
   "metadata": {},
   "outputs": [
    {
     "name": "stdout",
     "output_type": "stream",
     "text": [
      "7\n",
      "11\n",
      "15\n",
      "19\n",
      "23\n"
     ]
    }
   ],
   "source": [
    "# Solução do exercício 6\n",
    "def serie(b,s,n):\n",
    "    return b+n*s\n",
    "for n in range(0,5):\n",
    "    print(serie(7,4,n))"
   ]
  },
  {
   "cell_type": "markdown",
   "id": "73187e87",
   "metadata": {},
   "source": [
    "### Exercício 7: Desenhar um quadrado\n",
    "- Defina uma função **quad** que recebe um argumento, **n**, e desenha no monitor um quadrado usando o caráter '#';\n",
    "- O resultado da invocação dessa função com um argumento 3 deverá ser:\n",
    "```\n",
    "###\n",
    "###\n",
    "###\n",
    "```"
   ]
  },
  {
   "cell_type": "code",
   "execution_count": 47,
   "id": "a31f8eaf",
   "metadata": {},
   "outputs": [
    {
     "name": "stdout",
     "output_type": "stream",
     "text": [
      "###\n",
      "###\n",
      "###\n"
     ]
    }
   ],
   "source": [
    "# Solução do exercício 7\n",
    "def quad(n):\n",
    "    print (\"#\"*n)\n",
    "    for _ in range(n-2):\n",
    "        print (\"#\"*n)\n",
    "    print (\"#\"*n)\n",
    "quad(3)"
   ]
  },
  {
   "cell_type": "markdown",
   "id": "10b1d00c",
   "metadata": {},
   "source": [
    "### Exercício 8: Desenhar um quadrado\n",
    "- Defina uma função que desenhe no ecran (usando os caracteres # e _) um tabuleiro de xadrez; \n",
    "- O resultado da invocação dessa função com um argumento 5 deverá ser:\n",
    "```\n",
    "#_#_#\n",
    "_#_#_\n",
    "#_#_#\n",
    "_#_#_\n",
    "#_#_#\n",
    "```"
   ]
  },
  {
   "cell_type": "code",
   "execution_count": 46,
   "id": "a4ccf6e1",
   "metadata": {},
   "outputs": [
    {
     "name": "stdout",
     "output_type": "stream",
     "text": [
      "#_#_# \n",
      "_#_#_ \n",
      "#_#_# \n",
      "_#_#_ \n",
      "#_#_# \n",
      "None\n"
     ]
    }
   ],
   "source": [
    "# Solução do exercício 8\n",
    "def xad (n):\n",
    "    for i in range(n):\n",
    "        for j in range(n):\n",
    "            if ((i+j)%2) == 0:\n",
    "                print(\"#\", end=\"\")\n",
    "            else:\n",
    "                print(\"_\", end=\"\")\n",
    "        print ()\n",
    "\n",
    "print(xad(5))\n"
   ]
  },
  {
   "cell_type": "markdown",
   "id": "f4e2bc84",
   "metadata": {},
   "source": [
    "### Exercício 9: Índice de Massa Corporal\n",
    "- Defina uma função **imc** que recebe dois parâmetros, **peso**,**altura**, calcula o IMC corresponente e interpreta esse resultado.\n",
    "- imc(53,1.56) - Output: \"O seu índice de massa corporal é **21.78** e encontra-se na categoria **Normal**\"\n",
    "- imc(83,1.56) - Output: \"O seu índice de massa corporal é **34.11** e encontra-se na categoria **Obesidade grau I**\"\n",
    "\n",
    "Valores:\n",
    "- Menor que 18,5 - Baixo peso\n",
    "- 18,5 a 24,9 - Normal\n",
    "- 25 a 29,9\t- Excesso de peso\n",
    "- 30 a 34,9\t- Obesidade grau I\n",
    "- 35 a 39,9\t- Obesidade grau II\n",
    "- Maior que 40\t- Obesidade grau III"
   ]
  },
  {
   "cell_type": "code",
   "execution_count": 3,
   "id": "2a62004a",
   "metadata": {},
   "outputs": [
    {
     "name": "stdout",
     "output_type": "stream",
     "text": [
      "O seu Índice de massa corporal é:  19.71 \n",
      "\n",
      "O seu índice de massa corporal é 19.71 e encontra-se na categoria NORMAL\n"
     ]
    }
   ],
   "source": [
    "# Solução do exercício 9\n",
    "p = float(input(\"Escreva o seu peso\"))\n",
    "h = float(input(\"Escreva a sua altura\"))\n",
    "\n",
    "imc = p/(h**2)\n",
    "\n",
    "print(\"O seu Índice de massa corporal é: \", round(imc, 2), \"\"\"\n",
    "\"\"\")\n",
    "\n",
    "if imc < 18.5:\n",
    "    print(\"O seu índice de massa corporal é\", round(imc, 2), \"e encontra-se na categoria BAIXO PESO\")\n",
    "elif imc < 24.9:\n",
    "    print(\"O seu índice de massa corporal é\", round(imc, 2), \"e encontra-se na categoria NORMAL\")\n",
    "elif imc < 29.9:\n",
    "    print(\"O seu índice de massa corporal é\", round(imc, 2), \"e encontra-se na categoria EXCESSO DE PESO\")\n",
    "elif imc < 34.5:\n",
    "    print(\"O seu índice de massa corporal é\", round(imc, 2), \"e encontra-se na categoria OBESIDADE GRAU I\")\n",
    "elif imc < 39.9:\n",
    "    print(\"O seu índice de massa corporal é\", round(imc, 2), \"e encontra-se na categoria OBESIDADE GRAU II\")\n",
    "elif imc > 40:\n",
    "    print(\"O seu índice de massa corporal é\", round(imc, 2), \"e encontra-se na categoria OBESIDADE GRAU III\")\n"
   ]
  },
  {
   "cell_type": "markdown",
   "id": "5dcb3573",
   "metadata": {},
   "source": [
    "### Exercício 10: Série de Fibonacci\n",
    "- Defina uma função **fib** que recebe um argumento, **n**, e escreve no monitor os primeiros n elementos da série de fibonacci;\n",
    "- A série de Fibonacci tem a seguinte definição matemática:\n",
    "    - Se n < 2 ==> 1\n",
    "    - Se n >= 2 ==> fib(n-1) + fib(n-2)"
   ]
  },
  {
   "cell_type": "code",
   "execution_count": 13,
   "id": "fc54507c",
   "metadata": {},
   "outputs": [
    {
     "data": {
      "text/plain": [
       "[0, 1, 1, 2, 3, 5, 8, 13, 21, 34, 55, 89, 144, 233, 377]"
      ]
     },
     "execution_count": 13,
     "metadata": {},
     "output_type": "execute_result"
    }
   ],
   "source": [
    "# Solução do exercício 10\n",
    "def fib (n):\n",
    "    if n in {0, 1}:\n",
    "        return n\n",
    "    return fib(n - 1) + fib(n - 2)\n",
    "\n",
    "[fib(n) for n in range (15)]"
   ]
  },
  {
   "cell_type": "markdown",
   "id": "c10a9e44",
   "metadata": {},
   "source": [
    "### Exercício 11: Potência (recursiva)\n",
    "- Revisitando o problema da potência:\n",
    "    - Defina uma função **pot** que recebe dois parâmetros, **a** e **b**, e retorna o resultado de **a elevado à potência de b**;\n",
    "    - Defina esta função de forma recursiva."
   ]
  },
  {
   "cell_type": "code",
   "execution_count": 23,
   "id": "00146b49",
   "metadata": {},
   "outputs": [
    {
     "name": "stdout",
     "output_type": "stream",
     "text": [
      "O resultado é: 64\n"
     ]
    }
   ],
   "source": [
    "# Solução do exercício 11\n",
    "def pot(a,b):\n",
    "    if b==0:\n",
    "        return 1\n",
    "    else:\n",
    "        return a * pot(a, b-1)\n",
    "base = int(input(\"Insere valor da base: \"))\n",
    "expoente = int(input(\"Insere valor do expoente: \"))\n",
    "result = pot(base, expoente)\n",
    "print(\"O resultado é:\", result)"
   ]
  },
  {
   "cell_type": "markdown",
   "id": "81703f1b",
   "metadata": {},
   "source": [
    "### TPC2: Adivinha o número\n",
    "- Crie um programa em Python para jogar o jogo \"Adivinha o número\":\n",
    "    - O jogo pode ter 2 modalidades: computador pensa num número (entre 0 e 100), utilizador tenta adivinhar; ou, o utilizador pensa num número (entre 0 e 100) e o computador tenta adivinhar;\n",
    "    - Quem tenta adivinhar responde com uma das afirmações: \"Acertou\", \"O número que pensei é Maior\" ou \"O número que pensei é Menor\";\n",
    "    - Uma vez descoberto o número o programa deverá terminar imprimindo o número de tentativas que quem adivinhou usou para chegar ao resultado."
   ]
  },
  {
   "cell_type": "code",
   "execution_count": null,
   "id": "8ae91351",
   "metadata": {},
   "outputs": [],
   "source": [
    "import random\n",
    "\n",
    "target = random.randint(1,100)\n",
    "\n",
    "contador = 0\n",
    "times = 9\n",
    "\n",
    "print(\"\"\"Tente adivinhar o número escolhido pelo computador.\n",
    "O número tem de estar entre 1 e 100, inclusive!\n",
    "Tem direito a 9 tentativas!\n",
    "\n",
    "\"\"\")\n",
    "\n",
    "while times >= 1:\n",
    "    userschoice = int(input(\"Insira a sua escolha:\"))\n",
    "    print(userschoice)\n",
    "    contador = contador + 1\n",
    "    if target != userschoice:\n",
    "        print(\"Resposta errada! Tente novamente\")\n",
    "        times = times - 1\n",
    "        print (\"Ainda tem\", times, \"tentativas!\")\n",
    "        if target < userschoice:\n",
    "            print(\"\"\"O número que o computador escolheu é menor!\n",
    "            \"\"\".format\n",
    "            (userschoice))\n",
    "        else:\n",
    "            print(\"\"\"O número escolhido pelo computador é maior!\n",
    "            \"\"\".format(userschoice))\n",
    "    else:\n",
    "        print(\"Acertou depois de {} tentativas!\".format(contador))\n",
    "        print(\"O número que o computador escolheu é: \", target)\n",
    "        break;\n",
    "else:\n",
    "    print(\"\"\"Game over!!\n",
    "    Esgotou as suas tentativas.\"\"\")"
   ]
  },
  {
   "cell_type": "code",
   "execution_count": 9,
   "id": "8ae91351",
   "metadata": {},
   "outputs": [
    {
     "name": "stdout",
     "output_type": "stream",
     "text": [
      "Tente adivinhar o número escolhido pelo computador.\n",
      "O número tem de estar entre 1 e 100, inclusive!\n",
      "\n",
      "\n",
      "40\n",
      "Resposta errada! Tente novamente\n",
      "O número que o computador escolheu é menor!\n",
      "            \n",
      "30\n",
      "Resposta errada! Tente novamente\n",
      "O número que o computador escolheu é menor!\n",
      "            \n",
      "20\n",
      "Resposta errada! Tente novamente\n",
      "O número escolhido pelo computador é maior!\n",
      "            \n",
      "25\n",
      "Resposta errada! Tente novamente\n",
      "O número que o computador escolheu é menor!\n",
      "            \n",
      "23\n",
      "Acertou depois de 5 tentativas!\n",
      "O número que o computador escolheu é:  23\n"
     ]
    }
   ],
   "source": [
    "import random\n",
    "\n",
    "target = random.randint(1,100)\n",
    "\n",
    "contador = 0\n",
    "\n",
    "print(\"\"\"Tente adivinhar o número escolhido pelo computador.\n",
    "O número tem de estar entre 1 e 100, inclusive!\n",
    "\n",
    "\"\"\")\n",
    "\n",
    "while (True):\n",
    "    userschoice = int(input(\"Insira a sua escolha:\"))\n",
    "    print(userschoice)\n",
    "    contador = contador + 1\n",
    "    if target != userschoice:\n",
    "        print(\"Resposta errada! Tente novamente\")\n",
    "        if target < userschoice:\n",
    "            print(\"\"\"O número que o computador escolheu é menor!\n",
    "            \"\"\".format\n",
    "            (userschoice))\n",
    "        else:\n",
    "            print(\"\"\"O número escolhido pelo computador é maior!\n",
    "            \"\"\".format(userschoice))\n",
    "    else:\n",
    "        print(\"Acertou depois de {} tentativas!\".format(contador))\n",
    "        print(\"O número que o computador escolheu é: \", target)\n",
    "        break;"
   ]
  }
 ],
 "metadata": {
  "kernelspec": {
   "display_name": "Python 3.10.7 64-bit",
   "language": "python",
   "name": "python3"
  },
  "language_info": {
   "codemirror_mode": {
    "name": "ipython",
    "version": 3
   },
   "file_extension": ".py",
   "mimetype": "text/x-python",
   "name": "python",
   "nbconvert_exporter": "python",
   "pygments_lexer": "ipython3",
   "version": "3.10.7"
  },
  "vscode": {
   "interpreter": {
    "hash": "a9cff5a362bc38ef45d817ae74b1af54d6a076e3d773891282bce078b815ba34"
   }
  }
 },
 "nbformat": 4,
 "nbformat_minor": 5
}
