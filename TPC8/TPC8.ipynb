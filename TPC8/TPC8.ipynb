{
 "cells": [
  {
   "cell_type": "markdown",
   "id": "1e545158",
   "metadata": {},
   "source": [
    "# Aula Prática 8 (guião)\n",
    "### Semana de 7 de Novembro a 11 de Novembro de 2022\n",
    "### José Carlos Ramalho e Luís Cunha\n",
    "### Sinopsis:\n",
    "Consolidação e aferição de tudo o que foi feito até ao momento. "
   ]
  },
  {
   "cell_type": "markdown",
   "id": "9b9b5140-2b81-435e-9fc0-324437a7b453",
   "metadata": {},
   "source": [
    "### Assunto: Frações\n",
    "Vamos pensar num modelo: o que é uma fração estruturalmente?"
   ]
  },
  {
   "cell_type": "code",
   "execution_count": 1,
   "id": "5a6da5eb",
   "metadata": {},
   "outputs": [],
   "source": [
    "# Modelo duma fração\n",
    "f1 = (1,2)\n",
    "# Modelo duma lista de frações\n",
    "listaf = [(1,2), (3,2), (3,7)]"
   ]
  },
  {
   "cell_type": "markdown",
   "id": "d477052b-e074-4a5d-ac12-85c2286a1e5f",
   "metadata": {},
   "source": [
    "### Construtor"
   ]
  },
  {
   "cell_type": "code",
   "execution_count": 2,
   "id": "33d1c7e9-22af-4473-9b21-3e7ce0fcf571",
   "metadata": {},
   "outputs": [],
   "source": [
    "def criarFracao(numerador, denominador):\n",
    "    return (numerador, denominador)\n",
    "\n",
    "def verFracao(f):\n",
    "    print(f[0],\"/\", f[1], end=\"  \", sep=\"\")\n",
    "    return"
   ]
  },
  {
   "cell_type": "code",
   "execution_count": 3,
   "id": "d46df3ff",
   "metadata": {},
   "outputs": [
    {
     "name": "stdout",
     "output_type": "stream",
     "text": [
      "2/3  "
     ]
    }
   ],
   "source": [
    "f1 = criarFracao(2,3)\n",
    "verFracao(f1)"
   ]
  },
  {
   "cell_type": "code",
   "execution_count": 4,
   "id": "d5f0af19",
   "metadata": {},
   "outputs": [
    {
     "name": "stdout",
     "output_type": "stream",
     "text": [
      "1/2  3/2  3/7  "
     ]
    }
   ],
   "source": [
    "def verlista(f):\n",
    "    for i in f:\n",
    "        verFracao(i)\n",
    "\n",
    "verlista(listaf)"
   ]
  },
  {
   "cell_type": "markdown",
   "id": "f7cd0ff1",
   "metadata": {},
   "source": [
    "### Simplificação de frações"
   ]
  },
  {
   "cell_type": "code",
   "execution_count": 5,
   "id": "e949c8ae",
   "metadata": {},
   "outputs": [
    {
     "data": {
      "text/plain": [
       "5"
      ]
     },
     "execution_count": 5,
     "metadata": {},
     "output_type": "execute_result"
    }
   ],
   "source": [
    "def mdc(a,b):\n",
    "    if a > b:\n",
    "        menor = b\n",
    "    else:\n",
    "        menor = a\n",
    "    for n in range(1,menor +1):\n",
    "        if a % n == 0 and b % n == 0:\n",
    "            mdc = n\n",
    "    return mdc\n",
    "\n",
    "mdc(15,10)"
   ]
  },
  {
   "cell_type": "code",
   "execution_count": 6,
   "id": "67331832",
   "metadata": {},
   "outputs": [
    {
     "data": {
      "text/plain": [
       "2"
      ]
     },
     "execution_count": 6,
     "metadata": {},
     "output_type": "execute_result"
    }
   ],
   "source": [
    "#another one :)\n",
    "\n",
    "def mdcnovo (a,b):\n",
    "    if a == b:\n",
    "        return a\n",
    "    if a > b:\n",
    "        return mdcnovo(a-b, b)\n",
    "    else:\n",
    "        return mdcnovo(b-a, a)\n",
    "\n",
    "mdcnovo(2,14)"
   ]
  },
  {
   "cell_type": "code",
   "execution_count": 7,
   "id": "0091413e",
   "metadata": {},
   "outputs": [
    {
     "name": "stdout",
     "output_type": "stream",
     "text": [
      "4\n",
      "4\n"
     ]
    }
   ],
   "source": [
    "def mdcoutro(x, y):\n",
    "    while y != 0:\n",
    "        (x, y) = (y, x % y)\n",
    "    return x\n",
    "print(mdcoutro(4,20))\n",
    "\n",
    "def mdcresto(a,b):\n",
    "    if a % b == 0:\n",
    "        return b\n",
    "    return mdcresto(b, a%b)\n",
    "print(mdcresto(4,20))"
   ]
  },
  {
   "cell_type": "code",
   "execution_count": 8,
   "id": "8b0fa08f",
   "metadata": {},
   "outputs": [],
   "source": [
    "def simplificarFracao(f):\n",
    "    mmdc = mdcresto(f[0], f[1])\n",
    "    simp = criarFracao(int(f[0]/mmdc), int(f[1]/mmdc))\n",
    "    return simp"
   ]
  },
  {
   "cell_type": "code",
   "execution_count": 9,
   "id": "8821d031",
   "metadata": {},
   "outputs": [
    {
     "name": "stdout",
     "output_type": "stream",
     "text": [
      "3/20  "
     ]
    }
   ],
   "source": [
    "verFracao(simplificarFracao(criarFracao(21, 140)))"
   ]
  },
  {
   "cell_type": "markdown",
   "id": "d52f012f",
   "metadata": {},
   "source": [
    "## Operações sobre frações"
   ]
  },
  {
   "cell_type": "code",
   "execution_count": 10,
   "id": "96ba280b",
   "metadata": {},
   "outputs": [
    {
     "name": "stdout",
     "output_type": "stream",
     "text": [
      "29/21  "
     ]
    }
   ],
   "source": [
    "def somarFrac(f1, f2):\n",
    "        return simplificarFracao((f1[0]*f2[1]+f2[0]*f1[1],f1[1]*f2[1]))\n",
    "\n",
    "f2 = criarFracao(5,7)\n",
    "verFracao(somarFrac(f1,f2))"
   ]
  },
  {
   "cell_type": "code",
   "execution_count": 11,
   "id": "a0198bce",
   "metadata": {},
   "outputs": [
    {
     "name": "stdout",
     "output_type": "stream",
     "text": [
      "[(4, 12), (9, 12), (3, 15), (1, 9), (5, 13), (2, 8), (2, 13), (9, 11), (9, 10), (3, 16), (8, 18), (4, 2), (2, 8), (6, 10), (3, 17), (7, 13), (5, 2), (6, 11), (5, 16)]\n"
     ]
    }
   ],
   "source": [
    "listaFrac = [f1, f2, criarFracao(125,1000), (8,12)]\n",
    "listaFrac2 = []\n",
    "import random\n",
    "for i in range(1,20):\n",
    "    n = random.randrange(1, 10)\n",
    "    d = random.randrange(2, 20)\n",
    "    listaFrac2.append(criarFracao(n,d))\n",
    "print(listaFrac2)"
   ]
  },
  {
   "cell_type": "markdown",
   "id": "e83e4eae",
   "metadata": {},
   "source": [
    "### Soma uma lista de frações"
   ]
  },
  {
   "cell_type": "code",
   "execution_count": 13,
   "id": "402d83f0",
   "metadata": {},
   "outputs": [
    {
     "data": {
      "text/plain": [
       "(5012881, 437580)"
      ]
     },
     "execution_count": 13,
     "metadata": {},
     "output_type": "execute_result"
    }
   ],
   "source": [
    "def somarListaFrac(lista):\n",
    "    res = lista[0]\n",
    "    for f in lista[1:]:\n",
    "        res = somarFrac(res, f)\n",
    "    return res\n",
    "\n",
    "somarListaFrac(listaf)"
   ]
  },
  {
   "cell_type": "markdown",
   "id": "a88929cc",
   "metadata": {},
   "source": [
    "### Multiplica 2 frações"
   ]
  },
  {
   "cell_type": "code",
   "execution_count": 16,
   "id": "519c5358",
   "metadata": {},
   "outputs": [
    {
     "data": {
      "text/plain": [
       "(15, 8)"
      ]
     },
     "execution_count": 16,
     "metadata": {},
     "output_type": "execute_result"
    }
   ],
   "source": [
    "def multFrac(f1, f2):\n",
    "    res = (f1[0]*f2[0], f1[1]*f2[1])\n",
    "    return simplificarFracao(res)\n",
    "multFrac((3,4), (5,2))"
   ]
  },
  {
   "cell_type": "markdown",
   "id": "fcd5b5d6",
   "metadata": {},
   "source": [
    "### Guardar uma lista de frações num ficheiro"
   ]
  },
  {
   "cell_type": "code",
   "execution_count": 18,
   "id": "2840f9b2",
   "metadata": {},
   "outputs": [],
   "source": [
    "def gravaListaFrac(lista):\n",
    "    file = open(\"fracoes.txt\", \"w\")\n",
    "    for f in lista:\n",
    "        file.write(f\"{f[0]}/{f[1]}\\n\")\n",
    "        \n",
    "    file.close() \n",
    "\n",
    "gravaListaFrac([(2,7), (4,3), (5,6)])"
   ]
  },
  {
   "cell_type": "markdown",
   "id": "0664fcdc",
   "metadata": {},
   "source": [
    "### Recuperar uma lista de frações dum ficheiro"
   ]
  },
  {
   "cell_type": "code",
   "execution_count": 23,
   "id": "82aece6e",
   "metadata": {},
   "outputs": [
    {
     "name": "stdout",
     "output_type": "stream",
     "text": [
      "[(2, 7), (4, 3), (5, 6)]\n"
     ]
    }
   ],
   "source": [
    "def carregaListaFrac(fnome):\n",
    "    lst = []\n",
    "    file = open(fnome)\n",
    "    for line in file:\n",
    "        frac = line.split(\"/\")\n",
    "        frac[1] = frac[1].replace(\"\\n\", \"\")\n",
    "        tup = (int(frac[0]), int(frac[1]))\n",
    "        lst.append(tup)\n",
    "    return lst\n",
    "\n",
    "print(carregaListaFrac(\"fracoes.txt\"))"
   ]
  },
  {
   "cell_type": "markdown",
   "id": "4193a91b",
   "metadata": {},
   "source": [
    "### TPC8: Teste de aferição\n",
    "\n",
    "Resolva os problemas apresentados a seguir."
   ]
  },
  {
   "cell_type": "markdown",
   "id": "4e758271",
   "metadata": {},
   "source": [
    "### tpc1.a) Recebe duas strings, _s1_ e _s2_, e retorna o comprimento da substring inicial de _s1_ que não contem nenhum caráter de _s2_:"
   ]
  },
  {
   "cell_type": "code",
   "execution_count": 58,
   "id": "4ae7f5d0",
   "metadata": {},
   "outputs": [
    {
     "data": {
      "text/plain": [
       "4"
      ]
     },
     "execution_count": 58,
     "metadata": {},
     "output_type": "execute_result"
    }
   ],
   "source": [
    "def inicDiferente(s1, s2):\n",
    "    lst1 = []\n",
    "    lst2 = []\n",
    "    lst = []\n",
    "    for i in s1:\n",
    "        if i != \" \" and i != \".\":\n",
    "            lst1.append(i.lower())\n",
    "    for e in s2:\n",
    "        if e != \" \" and e != \".\":\n",
    "            lst2.append(e.lower())\n",
    "    for letter in lst1:\n",
    "        if letter not in lst2:\n",
    "            if letter not in lst:\n",
    "                lst.append(letter)\n",
    "    return len(lst)\n",
    "\n",
    "inicDiferente(\"Está um bom dia...\", \"Hoje é um dia alegre.\")\n",
    "# resultado esperado: 4"
   ]
  },
  {
   "cell_type": "markdown",
   "id": "28cb3dc4",
   "metadata": {},
   "source": [
    "### tpc1.b) Recebe um parâmetro _n_ e lê _n_ números inteiros; no fim retorna quantos dos números lidos são superiores à média dos números lidos:"
   ]
  },
  {
   "cell_type": "code",
   "execution_count": 17,
   "id": "4458c7bc",
   "metadata": {},
   "outputs": [
    {
     "name": "stdout",
     "output_type": "stream",
     "text": [
      "números:[389, 182, 428, 93, 437] \n",
      " soma:1529 \n",
      " média:305.8 \n",
      " acima da média:3\n"
     ]
    }
   ],
   "source": [
    "import random\n",
    "def acimaMedia(n):\n",
    "    res = 0\n",
    "    sum = 0\n",
    "    lst = []\n",
    "    i = 0\n",
    "    while i < n:\n",
    "        lst.append(random.randint(1,500))\n",
    "        i += 1\n",
    "    for x in lst:\n",
    "        sum += x\n",
    "    med = sum/n\n",
    "    for x in lst:\n",
    "        if x>med:\n",
    "            res += 1\n",
    "    num = \"números:\" + str(lst)\n",
    "    soma = \"soma:\" + str(sum)\n",
    "    media = \"média:\" + str(med)\n",
    "    nam = \"acima da média:\" + str(res)\n",
    "    print(\n",
    "        num, \"\\n\", \n",
    "        soma, \"\\n\", \n",
    "        media, \"\\n\", \n",
    "        nam\n",
    "    )\n",
    "\n",
    "acimaMedia(5)"
   ]
  },
  {
   "cell_type": "markdown",
   "id": "e6db31d7",
   "metadata": {},
   "source": [
    "### tpc1.c) Faz o merge de duas listas ordenadas, retornando uma lista ordenada com os elementos das duas listas (__não podes usar nenhuma função de ordenação do Python__):"
   ]
  },
  {
   "cell_type": "code",
   "execution_count": 23,
   "id": "2b5ad344",
   "metadata": {},
   "outputs": [
    {
     "data": {
      "text/plain": [
       "[1, 2, 3, 4, 6, 7, 9, 12]"
      ]
     },
     "execution_count": 23,
     "metadata": {},
     "output_type": "execute_result"
    }
   ],
   "source": [
    "def merge(l1, l2):\n",
    "        for elem in l2:\n",
    "                l1.append(elem)\n",
    "        j = 0 \n",
    "        while j < len(l1):\n",
    "                i = 1\n",
    "                while i < len(l1):\n",
    "                        if l1[i-1]>l1[i]:\n",
    "                                l1[i-1], l1[i] = l1[i], l1[i-1]\n",
    "                        i +=1 \n",
    "                j += 1\n",
    "        return l1\n",
    "    \n",
    "merge([1,2,6,9], [3,4,7,12])\n",
    "# Resultado esperado: [1,2,3,4,6,7,9,12]"
   ]
  },
  {
   "cell_type": "markdown",
   "id": "6698b337",
   "metadata": {},
   "source": [
    "### tpc1.d) Recebe o nome de dois ficheiros de texto, _f1_ e _f2_, e indica se são iguais (__True__) no seu conteúdo ou se são diferentes (__False__):"
   ]
  },
  {
   "cell_type": "code",
   "execution_count": 1,
   "id": "54cef309",
   "metadata": {},
   "outputs": [
    {
     "name": "stdout",
     "output_type": "stream",
     "text": [
      "False\n",
      "True\n"
     ]
    }
   ],
   "source": [
    "def figuais(f1, f2):\n",
    "    file1 = open(f1)\n",
    "    file2 = open(f2)\n",
    "    value = False\n",
    "    l1 = []\n",
    "    l2 = []\n",
    "    for a in file1:\n",
    "        if a != \"\\n\":\n",
    "            l1.append(a[:-1])\n",
    "    for b in file2:\n",
    "        if b != \"\\n\":\n",
    "            l2.append(b[:-1])\n",
    "    if l1==l2:\n",
    "        value = True\n",
    "    return value\n",
    "\n",
    "#print(figuais(\"texto1.txt\", \"texto1.txt\"))\n",
    "#print(figuais(\"texto1.txt\", \"texto2.txt\"))\n",
    "print(figuais(\"fracoes.txt\", \"fracoes2.txt\"))\n",
    "print(figuais(\"fracoes.txt\", \"fracoes.txt\"))"
   ]
  },
  {
   "cell_type": "markdown",
   "id": "7cd572fc",
   "metadata": {},
   "source": [
    "## Questão 2: Gestão de uma Cinemateca\n",
    "\n",
    "Analise as seguintes estruturas de dados que materializam o modelo de uma cinemateca:"
   ]
  },
  {
   "cell_type": "code",
   "execution_count": 3,
   "id": "76e9e621",
   "metadata": {},
   "outputs": [],
   "source": [
    "# Cinemateca = [Filme]\n",
    "# Pub = (Título, Ano, Elenco, Géneros)\n",
    "# Título = String\n",
    "# Ano = Int\n",
    "# Elenco = [Ator]\n",
    "# Ator = String\n",
    "# Géneros = [Género]\n",
    "# Género = String\n",
    "Filme1 = (\"Meet the Parents\", 2000, [\"Ben Stiller\",\"Robert De Niro\",\n",
    "      \"Blythe Danner\",\"Teri Polo\",\"Owen Wilson\"], [\"Comedy\", \"Drama\"])\n",
    "Filme2 = (\"Men of Honor\", 2000, [\"Robert De Niro\",\"Cuba Gooding, Jr.\",\n",
    "      \"Charlize Theron\"], [\"Biography\", \"Drama\", \"Thriller\"])\n",
    "Filme3 = (\"Analyze That\", 2002, [\"Robert De Niro\",\"Billy Crystal\",\n",
    "      \"Lisa Kudrow\"], [\"Comedy\"])\n",
    "CineUM = [Filme1, Filme2, Filme3]"
   ]
  },
  {
   "cell_type": "markdown",
   "id": "89afc758",
   "metadata": {},
   "source": [
    " e especifique funções que calculem o que se descreve a seguir:"
   ]
  },
  {
   "cell_type": "markdown",
   "id": "2156a0c8",
   "metadata": {},
   "source": [
    "### tpc2.a)  Devolve uma lista dos atores participantes nos filmes armazenados, ordenada alfabeticamente e sem repetições:"
   ]
  },
  {
   "cell_type": "code",
   "execution_count": 26,
   "id": "8a5a2a41",
   "metadata": {},
   "outputs": [
    {
     "name": "stdout",
     "output_type": "stream",
     "text": [
      "['Ben Stiller', 'Billy Crystal', 'Blythe Danner', 'Charlize Theron', 'Cuba Gooding, Jr.', 'Lisa Kudrow', 'Owen Wilson', 'Robert De Niro', 'Teri Polo']\n"
     ]
    }
   ],
   "source": [
    "def atores(cinemateca):\n",
    "    lst = []\n",
    "    for _, _, cast, *_ in cinemateca:\n",
    "        for at in cast:\n",
    "            if at not in lst:\n",
    "                lst.append(at)\n",
    "    lst.sort()\n",
    "    return lst\n",
    "print(atores(CineUM))\n",
    "# Resultado esperado: ['Ben Stiller', 'Billy Crystal', 'Blythe Danner', 'Charlize Theron', 'Cuba Gooding, Jr.', 'Lisa Kudrow', 'Owen Wilson', 'Robert De Niro', 'Teri Polo']"
   ]
  },
  {
   "cell_type": "markdown",
   "id": "12f9126b",
   "metadata": {},
   "source": [
    "### tpc2.b)  Devolve uma lista de todos os títulos dos filmes, em ordem alfabética, e de um determinado género passado como argumento:"
   ]
  },
  {
   "cell_type": "code",
   "execution_count": 30,
   "id": "d9dfe30a",
   "metadata": {},
   "outputs": [
    {
     "name": "stdout",
     "output_type": "stream",
     "text": [
      "['Analyze That', 'Meet the Parents']\n"
     ]
    }
   ],
   "source": [
    "def listarPorGenero(cinemateca, genero):\n",
    "    lst = []\n",
    "    for name, _, _, gen in cinemateca:\n",
    "        for g in gen:\n",
    "            if genero == g:\n",
    "                lst.append(name)\n",
    "    lst.sort()\n",
    "    return lst\n",
    "\n",
    "print(listarPorGenero(CineUM, \"Comedy\"))\n",
    "# Resultado esperado: ['Analyze That', 'Meet the Parents']"
   ]
  },
  {
   "cell_type": "markdown",
   "id": "1a0f760b",
   "metadata": {},
   "source": [
    "### tpc2.c)  Devolve o título do filme com o maior elenco:"
   ]
  },
  {
   "cell_type": "code",
   "execution_count": 37,
   "id": "a00c85e3",
   "metadata": {},
   "outputs": [
    {
     "name": "stdout",
     "output_type": "stream",
     "text": [
      "Meet the Parents\n"
     ]
    }
   ],
   "source": [
    "def maiorElenco( cinemateca ):\n",
    "    maior = 0\n",
    "    for name, _, cast, *_ in cinemateca:\n",
    "        if len(cast) > maior:\n",
    "            maior = len(cast)\n",
    "            return name\n",
    "print(maiorElenco(CineUM))\n",
    "# Resultado esperado: Meet the Parents"
   ]
  },
  {
   "cell_type": "markdown",
   "id": "65061d0a",
   "metadata": {},
   "source": [
    "### tpc2.d)  Calcula a distribuição de filmes por Género:"
   ]
  },
  {
   "cell_type": "code",
   "execution_count": 38,
   "id": "dc1adabc",
   "metadata": {},
   "outputs": [
    {
     "data": {
      "text/plain": [
       "{'Comedy': 2, 'Drama': 2, 'Biography': 1, 'Thriller': 1}"
      ]
     },
     "execution_count": 38,
     "metadata": {},
     "output_type": "execute_result"
    }
   ],
   "source": [
    "def filmePorGenero(cinemateca):\n",
    "    dic = {}\n",
    "    for _, _, _, gen in cinemateca:\n",
    "        for g in gen:\n",
    "            if g in dic.keys():\n",
    "                dic[g] += 1\n",
    "            else:\n",
    "                dic[g] = 1\n",
    "    return dic\n",
    "filmePorGenero(CineUM)"
   ]
  },
  {
   "cell_type": "markdown",
   "id": "de46a635",
   "metadata": {},
   "source": [
    "### tpc2.e)  Represente num gráfico de barras a distribuição calculada na alínea anterior (pode usar o material que entender das aulas):"
   ]
  },
  {
   "cell_type": "code",
   "execution_count": 41,
   "id": "4118730d",
   "metadata": {},
   "outputs": [
    {
     "data": {
      "image/png": "[encoded data removed]",
      "text/plain": [
       "<Figure size 640x480 with 1 Axes>"
      ]
     },
     "metadata": {},
     "output_type": "display_data"
    },
    {
     "name": "stdout",
     "output_type": "stream",
     "text": [
      "None\n"
     ]
    }
   ],
   "source": [
    "import matplotlib.pyplot as plt\n",
    "def graph(dist): \n",
    "    plt.figure()\n",
    "    plt.bar(dist.keys(), dist.values(), color=\"purple\")\n",
    "    plt.xticks([x for x in range(0, len(dist.keys()))], dist.keys())\n",
    "    plt.ylabel(\"Número de Filmes\", rotation= 'vertical')\n",
    "    plt.xlabel(\"Géneros\")\n",
    "    plt.title(\"Distribuição de Filmes por Género\")\n",
    "    plt.show()\n",
    "print(graph(filmePorGenero(CineUM)))"
   ]
  }
 ],
 "metadata": {
  "kernelspec": {
   "display_name": "Python 3.10.7 64-bit",
   "language": "python",
   "name": "python3"
  },
  "language_info": {
   "codemirror_mode": {
    "name": "ipython",
    "version": 3
   },
   "file_extension": ".py",
   "mimetype": "text/x-python",
   "name": "python",
   "nbconvert_exporter": "python",
   "pygments_lexer": "ipython3",
   "version": "3.10.7"
  },
  "vscode": {
   "interpreter": {
    "hash": "a9cff5a362bc38ef45d817ae74b1af54d6a076e3d773891282bce078b815ba34"
   }
  }
 },
 "nbformat": 4,
 "nbformat_minor": 5
}
