{
 "cells": [
  {
   "cell_type": "markdown",
   "id": "1e545158",
   "metadata": {},
   "source": [
    "# Aula Prática 3 (guião)\n",
    "### Semana de 3 a 7 de Outubro de 2022\n",
    "### José Carlos Ramalho e Luís Cunha\n",
    "### Sinopsis:\n",
    "Algoritmos sobre listas."
   ]
  },
  {
   "cell_type": "markdown",
   "id": "e38d18c4-d7d7-4fea-9bc6-e3f3c903386b",
   "metadata": {},
   "source": [
    "### Exercício 1: Criar uma lista \n",
    "- Defina uma função que recebe um argumento **N** e devolve uma  lista com os números pares até **N**;\n",
    "- Crie um programa que chama a função e imprime a lista resultante."
   ]
  },
  {
   "cell_type": "code",
   "execution_count": 1,
   "id": "af973146-3bb4-4fa8-ba6c-b887b79ccff8",
   "metadata": {},
   "outputs": [
    {
     "name": "stdout",
     "output_type": "stream",
     "text": [
      "A lista resultante é: [0, 2, 4, 6, 8, 10, 12, 14, 16, 18, 20]\n"
     ]
    }
   ],
   "source": [
    "# Solução do exercício 1\n",
    "def criaLista(N):\n",
    "    lst = []\n",
    "    i = 0\n",
    "    while i<=N:\n",
    "        if i%2 == 0:\n",
    "            lst.append(i)\n",
    "        i += 1\n",
    "    return lst\n",
    "print(\"A lista resultante é:\", criaLista(20))"
   ]
  },
  {
   "cell_type": "markdown",
   "id": "bdcbffb0",
   "metadata": {},
   "source": [
    "### Exercício 2: Ler uma lista de N números\n",
    "- Defina uma função que recebe um argumento **N** e lê **N** números armazenando-os numa lista que é devolvida como resultado;\n",
    "- Crie um programa que chama a função e imprime a lista resultante."
   ]
  },
  {
   "cell_type": "code",
   "execution_count": 2,
   "id": "af973146-3bb4-4fa8-ba6c-b887b79ccff8",
   "metadata": {},
   "outputs": [
    {
     "name": "stdout",
     "output_type": "stream",
     "text": [
      "a lista gerada é [18, 81, 57, 18, 44, 53, 68, 35, 91, 42, 38]\n"
     ]
    }
   ],
   "source": [
    "# Solução do exercício 2\n",
    "import random\n",
    "def ler(N):\n",
    "    lst = []\n",
    "    i = 0\n",
    "    while (i<=N):\n",
    "        a = random.randint(1,100)\n",
    "        lst.append(a)\n",
    "        i = i + 1\n",
    "    return lst\n",
    "\n",
    "print(\"a lista gerada é\", ler(10))"
   ]
  },
  {
   "cell_type": "markdown",
   "id": "bdcbffb0",
   "metadata": {},
   "source": [
    "### Exercício 3: Somar uma lista de números\n",
    "- Defina uma função que recebe uma lista como argumento e devolve a soma dos números nessa lista."
   ]
  },
  {
   "cell_type": "code",
   "execution_count": 3,
   "id": "64ad6f7b",
   "metadata": {},
   "outputs": [
    {
     "name": "stdout",
     "output_type": "stream",
     "text": [
      "[0, 2, 4, 6, 8, 10]\n",
      "30\n"
     ]
    }
   ],
   "source": [
    "# Solução do exercício 3\n",
    "\n",
    "def sumlst(lst):\n",
    "    soma = 0\n",
    "    for i in lst:\n",
    "        soma = soma + i\n",
    "        i = i + 1\n",
    "    return soma\n",
    "\n",
    "print(criaLista(10))\n",
    "print(sumlst(criaLista(10)))"
   ]
  },
  {
   "cell_type": "markdown",
   "id": "bdcbffb0",
   "metadata": {},
   "source": [
    "### Exercício 4: Calcular a média duma lista de números\n",
    "- Defina uma função que recebe uma lista como argumento e devolve a média dos números nessa lista."
   ]
  },
  {
   "cell_type": "code",
   "execution_count": 4,
   "id": "a6c32b2e",
   "metadata": {},
   "outputs": [
    {
     "name": "stdout",
     "output_type": "stream",
     "text": [
      "[75, 71, 81, 3, 41, 63, 55, 53, 42, 51, 32]\n",
      "29.181818181818183\n"
     ]
    }
   ],
   "source": [
    "# Solução do exercício 4\n",
    "def mediaLista(lst):\n",
    "    soma = 0 \n",
    "    for i in lst:\n",
    "        soma = soma + i\n",
    "        i = i + 1\n",
    "    return soma/len(lst)\n",
    "\n",
    "print (ler(10))\n",
    "print(mediaLista(ler(10)))"
   ]
  },
  {
   "cell_type": "markdown",
   "id": "f41ef69b",
   "metadata": {},
   "source": [
    "### Exercício 5: Maior de uma sequência\n",
    "- Defina uma função que recebe uma lista como argumento e devolve o maior número nessa lista."
   ]
  },
  {
   "cell_type": "code",
   "execution_count": 5,
   "id": "86f5b24d",
   "metadata": {},
   "outputs": [
    {
     "name": "stdout",
     "output_type": "stream",
     "text": [
      "78\n"
     ]
    }
   ],
   "source": [
    "# Solução do exercício 5\n",
    "def maior(lst):\n",
    "    maior = lst[0]\n",
    "    for i in lst:\n",
    "        if i>maior:\n",
    "            maior = i\n",
    "    return maior\n",
    "\n",
    "print(maior([45,52,78,63]))"
   ]
  },
  {
   "cell_type": "markdown",
   "id": "d11cdd11",
   "metadata": {},
   "source": [
    "### Exercício 6: Menor de uma sequência\n",
    "- Defina uma função que recebe uma lista como argumento e devolve o menor número nessa lista."
   ]
  },
  {
   "cell_type": "code",
   "execution_count": 6,
   "id": "7549c7d7",
   "metadata": {},
   "outputs": [
    {
     "name": "stdout",
     "output_type": "stream",
     "text": [
      "45\n"
     ]
    }
   ],
   "source": [
    "# Solução do exercício 6\n",
    "def menor(lst):\n",
    "    menor = lst[0]\n",
    "    for i in lst:\n",
    "        if menor>i:\n",
    "            menor = i\n",
    "    return menor\n",
    "\n",
    "print(menor([45,52,78,63]))"
   ]
  },
  {
   "cell_type": "markdown",
   "id": "775a02a5",
   "metadata": {},
   "source": [
    "### Exercício 7: Contar strings\n",
    "- Defina uma função que recebe uma lista de strings como argumento e devolve número de strings nessa lista que:\n",
    "    1. Têm tamanho maior ou igual a 2;\n",
    "    2. Começam e terminam pelo mesmo caracter.\n",
    "#### Input (exemplo)\n",
    "in: ['abc', 'xyz', 'aba', '1221']\n",
    "#### Output (exemplo)\n",
    "out: 2"
   ]
  },
  {
   "cell_type": "code",
   "execution_count": 7,
   "id": "7390bc6a",
   "metadata": {},
   "outputs": [
    {
     "data": {
      "text/plain": [
       "2"
      ]
     },
     "execution_count": 7,
     "metadata": {},
     "output_type": "execute_result"
    }
   ],
   "source": [
    "# Solução do exercício 7\n",
    "def contarStringsLista(lista):\n",
    "    count = 0\n",
    "    for i in lista:\n",
    "        if len(i)>=2:\n",
    "            if i[0] == i[-1]:\n",
    "                count = count + 1\n",
    "    return count\n",
    "\n",
    "contarStringsLista(['abc', 'xyz', 'aba', '1221'])"
   ]
  },
  {
   "cell_type": "code",
   "execution_count": 8,
   "id": "7390bc6a",
   "metadata": {},
   "outputs": [
    {
     "data": {
      "text/plain": [
       "2"
      ]
     },
     "execution_count": 8,
     "metadata": {},
     "output_type": "execute_result"
    }
   ],
   "source": [
    "# Solução do exercício 7\n",
    "def contarStringsLista(lista):\n",
    "    count = 0\n",
    "    for i in lista:\n",
    "        if len(i)>=2 and i[0] == i[-1]:\n",
    "            count = count + 1\n",
    "    return count\n",
    "\n",
    "contarStringsLista(['abc', 'xyz', 'aba', '1221'])"
   ]
  },
  {
   "cell_type": "markdown",
   "id": "f9ba457b",
   "metadata": {},
   "source": [
    "### Exercício 8: Remover duplicados\n",
    "- Defina uma função que recebe uma lista como argumento e devolve uma nova lista eliminando elementos repetidos."
   ]
  },
  {
   "cell_type": "code",
   "execution_count": 9,
   "id": "0abc61e5",
   "metadata": {},
   "outputs": [
    {
     "name": "stdout",
     "output_type": "stream",
     "text": [
      "[45, 85, 62, 64, 5, 4, 32, 8, 9]\n"
     ]
    }
   ],
   "source": [
    "# Solução do exercício 8\n",
    "def remDupLista(lista):\n",
    "    lst2 = []\n",
    "    for i in lista:\n",
    "        if i not in lst2:\n",
    "            lst2.append(i)\n",
    "    return lst2\n",
    "\n",
    "print(remDupLista([45,45,85,62,64,5,5,4,32,8,8,9,45]))"
   ]
  },
  {
   "cell_type": "markdown",
   "id": "9bc471d8",
   "metadata": {},
   "source": [
    "### Exercício 9: eVazia?\n",
    "- Defina uma função que recebe uma lista como argumento e devolve um resultado booleano verdadeiro se a lista estiver vazia."
   ]
  },
  {
   "cell_type": "code",
   "execution_count": 10,
   "id": "18cf2aff",
   "metadata": {},
   "outputs": [
    {
     "name": "stdout",
     "output_type": "stream",
     "text": [
      "True\n",
      "False\n"
     ]
    }
   ],
   "source": [
    "# Solução do exercício 9\n",
    "def eVazia(lista):\n",
    "    valor = False\n",
    "    if len(lista) == 0:\n",
    "        valor = True\n",
    "    else:\n",
    "        valor = False\n",
    "    return valor\n",
    "\n",
    "print (eVazia([]))\n",
    "print (eVazia([2,5,6,4,8]))\n"
   ]
  },
  {
   "cell_type": "markdown",
   "id": "72b8fac0",
   "metadata": {},
   "source": [
    "### Exercício 10: Copiar lista\n",
    "- Defina uma função que recebe uma lista como argumento e devolve uma nova lista correspondente a uma cópia da lista recebida."
   ]
  },
  {
   "cell_type": "code",
   "execution_count": 11,
   "id": "a61ca503",
   "metadata": {},
   "outputs": [
    {
     "name": "stdout",
     "output_type": "stream",
     "text": [
      "[4, 5, 6, 8, 52, 4, 5, 6]\n"
     ]
    }
   ],
   "source": [
    "# Solução do exercício 10\n",
    "def copiarLista(lista):\n",
    "    lstcopia = []\n",
    "    for i in lista:\n",
    "        if i in lista:\n",
    "            lstcopia.append(i)\n",
    "    return lstcopia\n",
    "\n",
    "print (copiarLista ([4,5,6,8,52,4,5,6]))"
   ]
  },
  {
   "cell_type": "markdown",
   "id": "d170cc50",
   "metadata": {},
   "source": [
    "### Exercício 11: Strings maiores que n carateres\n",
    "- Defina uma função que recebe dois argumentos, uma lista de strings e um número inteiro, e que devolve uma nova lista de strings em que estas têm um comprimento igual ou superior ao valor inteiro passado como argumento."
   ]
  },
  {
   "cell_type": "code",
   "execution_count": 12,
   "id": "1944ef1d",
   "metadata": {},
   "outputs": [
    {
     "name": "stdout",
     "output_type": "stream",
     "text": [
      "['kjasdjd', 'aaslm', 'ajsbd']\n"
     ]
    }
   ],
   "source": [
    "# Solução do exercício 11\n",
    "def stringsMaioresLista(lista, n):\n",
    "    lst = []\n",
    "    for i in lista:\n",
    "        if len(i)>=n:\n",
    "            lst.append(i)\n",
    "    return lst\n",
    "\n",
    "print (stringsMaioresLista([\"kjasdjd\",\"hs\",\"aaslm\",\"ajsbd\",\"aks\"], 4))"
   ]
  },
  {
   "cell_type": "markdown",
   "id": "af46fe06",
   "metadata": {},
   "source": [
    "### Exercício 12: Comum?\n",
    "- Defina uma função que recebe duas listas como argumento, e que devolve o valor booleano verdadeiro se as listas tiverem pelo menos um elemento comum."
   ]
  },
  {
   "cell_type": "code",
   "execution_count": 13,
   "id": "7a2f4413",
   "metadata": {},
   "outputs": [
    {
     "name": "stdout",
     "output_type": "stream",
     "text": [
      "True\n"
     ]
    }
   ],
   "source": [
    "# Solução do exercício 12\n",
    "def haComuns(listaA, listaB):\n",
    "    valor = False\n",
    "    while valor == False:\n",
    "        for i in listaA:\n",
    "            if i in listaB:\n",
    "                valor = True\n",
    "        break\n",
    "    return valor\n",
    "print(haComuns([1,2,3,4],[2,4,6,5]))"
   ]
  },
  {
   "cell_type": "markdown",
   "id": "061bae0e",
   "metadata": {},
   "source": [
    "### Exercício 13: Comuns\n",
    "- Defina uma função que recebe duas listas como argumento, e que devolve uma nova lista com os valores comuns às duas listas."
   ]
  },
  {
   "cell_type": "code",
   "execution_count": 14,
   "id": "02db9458",
   "metadata": {},
   "outputs": [
    {
     "name": "stdout",
     "output_type": "stream",
     "text": [
      "[5, 3, 1, 'ola', 'hello']\n"
     ]
    }
   ],
   "source": [
    "# Solução do exercício 13\n",
    "def comuns(listaA, listaB):\n",
    "    lst = []\n",
    "    for a in listaA:\n",
    "        if a in listaB:\n",
    "            lst.append(a)\n",
    "    return lst\n",
    "\n",
    "print(comuns([2,5,4,3,1,\"ola\",\"hello\",\"caderno\"],[5,3,8,9,1,\"hello\",\"sheet\",\"ola\"]))"
   ]
  },
  {
   "cell_type": "markdown",
   "id": "af4f2b11",
   "metadata": {},
   "source": [
    "### Exercício 14: Únicos\n",
    "- Defina uma função que recebe duas listas como argumento, e que devolve uma nova lista com os valores que apenas existem numa delas."
   ]
  },
  {
   "cell_type": "code",
   "execution_count": 15,
   "id": "01a0d35e",
   "metadata": {},
   "outputs": [
    {
     "name": "stdout",
     "output_type": "stream",
     "text": [
      "[2, 4, 'caderno', 8, 9, 'sheet']\n"
     ]
    }
   ],
   "source": [
    "# Solução do exercício 14\n",
    "def unicos(listaA, listaB):\n",
    "    lst = []\n",
    "    for a in listaA:\n",
    "        if a not in listaB:\n",
    "            lst.append(a)\n",
    "    for b in listaB:\n",
    "        if b not in listaA:\n",
    "            lst.append(b)\n",
    "    return lst\n",
    "\n",
    "print(unicos([2,5,4,3,1,\"ola\",\"hello\",\"caderno\"],[5,3,8,9,1,\"hello\",\"sheet\",\"ola\"]))"
   ]
  },
  {
   "cell_type": "markdown",
   "id": "2acbab46",
   "metadata": {},
   "source": [
    "### Exercício 15: indiceDe\n",
    "- Defina uma função que recebe uma lista e um elemento como argumento, e que devolve o índice desse elemento na lista. No caso do elemento não existir na lista deverá devolver o valor -1."
   ]
  },
  {
   "cell_type": "code",
   "execution_count": 49,
   "id": "3891e6c3",
   "metadata": {},
   "outputs": [
    {
     "name": "stdout",
     "output_type": "stream",
     "text": [
      "4\n",
      "O número não está presente na lista\n"
     ]
    }
   ],
   "source": [
    "# Solução do exercício 15\n",
    "def indicede(lst, elem):\n",
    "    ind = 0\n",
    "    try:\n",
    "        ind = lst.index(elem)\n",
    "    except ValueError:\n",
    "        ind = str(\"O número não está presente na lista\")\n",
    "    return ind\n",
    "\n",
    "print(indicede([45,25,6,8,574,5,415,7], 574))\n",
    "print(indicede([45,25,6,8,574,5,415,7], 78))"
   ]
  },
  {
   "cell_type": "markdown",
   "id": "1d9c2fbc",
   "metadata": {},
   "source": [
    "### Exercício 16: estaOrdenada\n",
    "- Defina uma função que recebe uma lista de números e verifica se a mesma está ordenada por ordem crescente."
   ]
  },
  {
   "cell_type": "code",
   "execution_count": 104,
   "id": "fb44546a",
   "metadata": {},
   "outputs": [
    {
     "name": "stdout",
     "output_type": "stream",
     "text": [
      "False\n",
      "True\n",
      "True\n"
     ]
    }
   ],
   "source": [
    "# Solução do exercício 16\n",
    "def estaOrdenada(lista):\n",
    "    crescente = True\n",
    "    decrescente = True\n",
    "    previous = lista[0]\n",
    "    for i in lista[1:]:\n",
    "        if crescente and i < previous:\n",
    "            crescente = False\n",
    "        if decrescente and i > previous:\n",
    "            decrescente = False\n",
    "        if not crescente and not decrescente:\n",
    "            return False\n",
    "    return True\n",
    "\n",
    "print(estaOrdenada([541,841,54,814,6416,165,16,815]))\n",
    "print(estaOrdenada([1,2,3,4,5,6,7,8,9]))\n",
    "print(estaOrdenada([9,8,7,6,5,4,3,2,1]))"
   ]
  },
  {
   "cell_type": "markdown",
   "id": "4c48dc90",
   "metadata": {},
   "source": [
    "### Exercício 17: estaOrdenadaCD\n",
    "- Modifique a função do exercício anterior para receber um parâmetro extra, **ordem**, que poderá ter valores \"C\" ou \"D\" e que vai verificar se a lista está ordenada por ordem crescente se **ordem=\"C\"** ou se está ordenada por ordem decrescente se **ordem=\"D\"**."
   ]
  },
  {
   "cell_type": "code",
   "execution_count": 136,
   "id": "f4b83960",
   "metadata": {},
   "outputs": [
    {
     "name": "stdout",
     "output_type": "stream",
     "text": [
      "desordenada\n",
      "C\n",
      "D\n"
     ]
    }
   ],
   "source": [
    "# Solução do exercício 16\n",
    "def estaOrdenadaCD(lista,ordem):\n",
    "    ordem = str(\"desordenada\")\n",
    "    for i in range(len(lista)):\n",
    "        if sorted(lista)==lista:\n",
    "            ordem = str(\"C\")\n",
    "        if sorted(lista, reverse=True)==lista:\n",
    "            ordem = str(\"D\")     \n",
    "    return ordem \n",
    "\n",
    "print(estaOrdenadaCD([541,841,54,814,6416,165,16,815],0))\n",
    "print(estaOrdenadaCD([1,2,3,4,5,6,7,8,9],0))\n",
    "print(estaOrdenadaCD([9,8,7,6,5,4,3,2,1],0))"
   ]
  },
  {
   "cell_type": "markdown",
   "id": "4193a91b",
   "metadata": {},
   "source": [
    "### TPC3: Aplicação para manipulação de listas de inteiros\n",
    "- Crie uma aplicação em Python que coloca no monitor o seguinte menu:\n",
    "    * (1) Criar Lista \n",
    "    * (2) Ler Lista\n",
    "    * (3) Soma\n",
    "    * (4) Média\n",
    "    * (5) Maior\n",
    "    * (6) Menor\n",
    "    * (7) estaOrdenada por ordem crescente\n",
    "    * (8) estaOrdenada por ordem decrescente\n",
    "    * (9) Procura um elemento\n",
    "    * (0) Sair\n",
    "- O utilizador irá escolher uma das opções introduzindo o número correspondente;\n",
    "- Se a opção não for sair, a aplicação executa a operação pretendida, apresenta o resultado e a seguir apresenta de novo o menu;\n",
    "- Se a opção for sair, a aplicação termina colocando uma mensagem no monitor.\n",
    "\n",
    "* No desenvolvimento da aplicação deverá ter em atenção o seguinte:\n",
    "    - A aplicação terá uma variável interna para guardar uma lista de números;\n",
    "    - Na opção 1, deverá ser criada uma lista de números aleatórios entre 1 e 100 que será guardada na variável interna;\n",
    "    - Na opção 2, deverá ser criada uma lista com números introduzidos pelo utilizador, que será guardada na variável interna;\n",
    "    - Nestas primeiras opções, se a variável interna já tiver uma lista, esta será sobreposta/apagada pela nova lista;\n",
    "    - Na opção 3, será calculada a soma dos elementos na lista no momento;\n",
    "    - Na opção 4, será calculada a média dos elementos na lista no momento;\n",
    "    - Na opção 5, será calculado o maior elemento da lista no momento;\n",
    "    - Na opção 6, será calculado o menor elemento da lista no momento;\n",
    "    - Na opção 7, a aplicação deverá indicar (Sim/Não) se a lista está ordenada por ordem crescente;\n",
    "    - Na opção 8, a aplicação deverá indicar (Sim/Não) se a lista está ordenada por ordem decrescente;\n",
    "    - Na opção 9, a aplicação irá procurar um ellmento na lista, se o encontrar deverá devolver a sua posição;\n",
    "    - Se o utilizador selecionar a opção 0, a aplicação deverá terminar mostrando a lista que está nesse momento guardada."
   ]
  },
  {
   "cell_type": "code",
   "execution_count": 71,
   "id": "a00dd4fb",
   "metadata": {},
   "outputs": [
    {
     "name": "stdout",
     "output_type": "stream",
     "text": [
      "\n",
      "---x---\n",
      "->Menu:\n",
      "\n",
      "Criar Lista aleatória - Selecione 1\n",
      "Ler Lista - Selecione 2\n",
      "Soma - Selecione 3\n",
      "Média - Selecione 4\n",
      "Maior - Selecione 5\n",
      "Menor - Selecione 8\n",
      "estaOrdenada por ordem crescente - Selecione 7\n",
      "estaOrdenada por ordem decrescente - Selecione 8\n",
      "Procura um elemento - Selecione 9\n",
      "Sair - Selecione 0\n",
      "\n",
      "(Se não escolher nem 1 nem 2, a lista terá 8 elementos e será criada pela aplicação)\n",
      "\n",
      "-> Selecione um número do menu\n",
      "\n",
      "A lista gerada pelo computador é: [60, 89, 75, 89, 18, 6, 98, 40] \n",
      "\n",
      "-> A opção selecionada foi: 8\n",
      "Lista: [60, 89, 75, 89, 18, 6, 98, 40]\n",
      "A lista está ordenada de forma decrescente? Não\n",
      "\n",
      "---x---\n",
      "->Menu:\n",
      "\n",
      "Criar Lista aleatória - Selecione 1\n",
      "Ler Lista - Selecione 2\n",
      "Soma - Selecione 3\n",
      "Média - Selecione 4\n",
      "Maior - Selecione 5\n",
      "Menor - Selecione 8\n",
      "estaOrdenada por ordem crescente - Selecione 7\n",
      "estaOrdenada por ordem decrescente - Selecione 8\n",
      "Procura um elemento - Selecione 9\n",
      "Sair - Selecione 0\n",
      "\n",
      "(Se não escolher nem 1 nem 2, a lista terá 8 elementos e será criada pela aplicação)\n",
      "\n",
      "-> Selecione um número do menu\n",
      "\n",
      "-> A opção selecionada foi: 0\n",
      "Saiu do programa :(\n",
      "A lista gerada até este momento é: [60, 89, 75, 89, 18, 6, 98, 40]\n"
     ]
    }
   ],
   "source": [
    "import random\n",
    "menu = str(\"\"\"\n",
    "---x---\n",
    "->Menu:\n",
    "\n",
    "Criar Lista aleatória - Selecione 1\n",
    "Ler Lista - Selecione 2\n",
    "Soma - Selecione 3\n",
    "Média - Selecione 4\n",
    "Maior - Selecione 5\n",
    "Menor - Selecione 8\n",
    "estaOrdenada por ordem crescente - Selecione 7\n",
    "estaOrdenada por ordem decrescente - Selecione 8\n",
    "Procura um elemento - Selecione 9\n",
    "Sair - Selecione 0\n",
    "\n",
    "(Se não escolher nem 1 nem 2, a lista terá 8 elementos e será criada pela aplicação)\n",
    "\n",
    "-> Selecione um número do menu\n",
    "\"\"\")\n",
    "\n",
    "lst = []\n",
    "i = 0\n",
    "while i<8:\n",
    "    z = random.randint(1,101)\n",
    "    lst.append(z)\n",
    "    i += 1\n",
    "print(menu)\n",
    "print (\"A lista gerada pelo computador é:\", lst, \"\"\"\n",
    "\"\"\")\n",
    "n = 9\n",
    "\n",
    "while n != 0:\n",
    "    n = int(input(\"Selecione uma opção do menu:\"))\n",
    "    print(\"-> A opção selecionada foi:\", n)\n",
    "    if n > 9:\n",
    "        print(\"Essa opção não pertence ao menu, escolha novamente.\")\n",
    "        print(menu)\n",
    "\n",
    "    if n == 1:\n",
    "        N = int(input(\"Quantos numeros tem a lista?\"))\n",
    "        i = 0\n",
    "        lst.clear()\n",
    "        while (i<N):\n",
    "            a = random.randint(1,100)\n",
    "            lst.append(a)\n",
    "            i += 1\n",
    "        print(\"a lista gerada é\", lst, \"e tem\", N, \"elementos.\")\n",
    "        print(menu)\n",
    "\n",
    "    if n == 2:\n",
    "        i = 0\n",
    "        b = int(input(\"Quantos números tem a sua lista?\"))\n",
    "        lst.clear()\n",
    "        while i<b:\n",
    "            c = int(input(\"Escreva os números que vão fazer parte da lista:\"))\n",
    "            lst.append(c)\n",
    "            i += 1\n",
    "        print(\"A lista que criou é\", lst, \"e tem\", b, \"elementos.\")\n",
    "        print(menu)\n",
    "    \n",
    "    if n == 3:\n",
    "        print(\"Lista:\", lst)\n",
    "        def soma(lst):\n",
    "            soma = 0\n",
    "            for i in lst:\n",
    "                soma = soma + i\n",
    "                i = i + 1\n",
    "            return soma\n",
    "        print(\"A soma da sua lista é:\", soma(lst))\n",
    "        print(menu)\n",
    "    \n",
    "    if n == 4:\n",
    "        print(\"Lista:\", lst)\n",
    "        def media(lst):\n",
    "            sum = 0\n",
    "            for i in lst:\n",
    "                sum = sum + i\n",
    "                i = i + 1\n",
    "                v = sum/len(lst)\n",
    "            return v\n",
    "        print(\"A média da sua lista é\", media(lst))\n",
    "        print(menu)\n",
    "    \n",
    "    if n == 5:\n",
    "        print(\"Lista:\", lst)\n",
    "        def maior(lst):\n",
    "            maior = lst[0]\n",
    "            for i in lst:\n",
    "                if i>maior:\n",
    "                    maior = i\n",
    "            return maior\n",
    "        print(\"O maior número na sua lista é:\", maior(lst))\n",
    "        print(menu)\n",
    "    \n",
    "    if n == 6: \n",
    "        print(\"Lista:\", lst)\n",
    "        def menor(lst):\n",
    "            menor=lst[0]\n",
    "            for i in lst:\n",
    "                if i<menor:\n",
    "                    menor = i\n",
    "            return menor\n",
    "        print(\"O menor número na sua lista é:\", menor(lst))\n",
    "        print(menu)\n",
    "\n",
    "    if n == 7:\n",
    "        print(\"Lista:\", lst)\n",
    "        def ordemC(lst):\n",
    "            ordem = 0\n",
    "            for i in range(len(lst)):\n",
    "                if sorted(lst)==lst:\n",
    "                    ordem = str(\"Sim\")\n",
    "                else:\n",
    "                    ordem = str(\"Não\")\n",
    "            return ordem\n",
    "        print(\"A lista está ordenada de forma crescente?\", ordemC(lst))\n",
    "        print(menu)\n",
    "\n",
    "    if n == 8:\n",
    "        print(\"Lista:\", lst)\n",
    "        def ordemD(lst):\n",
    "            ordem1 = 0\n",
    "            for i in range(len(lst)):\n",
    "                if sorted(lst, reverse=True)==lst:\n",
    "                    ordem1 = str(\"Sim\")\n",
    "                else:\n",
    "                    ordem1 = str(\"Não\")\n",
    "            return ordem1\n",
    "        print(\"A lista está ordenada de forma decrescente?\", ordemD(lst))\n",
    "        print(menu)\n",
    "\n",
    "    if n == 9:\n",
    "        print(\"Lista\", lst)\n",
    "        def index(lst):\n",
    "            elem = int(input(\"Elemento da lista:\"))\n",
    "            ind = 0\n",
    "            try:\n",
    "                ind = lst.index(elem) + 1\n",
    "            except ValueError:\n",
    "                ind = str(\"O número não está presente na lista.\")\n",
    "            return ind\n",
    "        print(\"A posição do elemento\", elem, \"é:\", index(lst))\n",
    "        print(menu)\n",
    "\n",
    "if n == 0:\n",
    "    print(\"\"\"Saiu do programa :(\n",
    "A lista gerada até este momento é:\"\"\", lst) \n",
    "        "
   ]
  }
 ],
 "metadata": {
  "kernelspec": {
   "display_name": "Python 3.10.7 64-bit",
   "language": "python",
   "name": "python3"
  },
  "language_info": {
   "codemirror_mode": {
    "name": "ipython",
    "version": 3
   },
   "file_extension": ".py",
   "mimetype": "text/x-python",
   "name": "python",
   "nbconvert_exporter": "python",
   "pygments_lexer": "ipython3",
   "version": "3.10.7"
  },
  "vscode": {
   "interpreter": {
    "hash": "a9cff5a362bc38ef45d817ae74b1af54d6a076e3d773891282bce078b815ba34"
   }
  }
 },
 "nbformat": 4,
 "nbformat_minor": 5
}
