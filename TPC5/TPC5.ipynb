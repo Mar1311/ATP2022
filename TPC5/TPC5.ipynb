{
 "cells": [
  {
   "cell_type": "markdown",
   "id": "1e545158",
   "metadata": {},
   "source": [
    "# Aula Prática 5 (guião)\n",
    "### Semana de 17 a 21 de Outubro de 2022\n",
    "### José Carlos Ramalho e Luís Cunha\n",
    "### Sinopsis:\n",
    "Algoritmos e modelação de problemas com armazenamento em memória secundária."
   ]
  },
  {
   "cell_type": "markdown",
   "id": "1d9c2fbc",
   "metadata": {},
   "source": [
    "### Exercício 1: Polinómios\n",
    "\n",
    "Neste exercício, desenvolva as seguintes alíneas:"
   ]
  },
  {
   "cell_type": "markdown",
   "id": "8ef1ac42",
   "metadata": {},
   "source": [
    "#### a) Pense num modelo para polinómios e instancia os seguintes exemplos:\n",
    "\n",
    "* `x`\n",
    "* `2x + 1`\n",
    "* `7x^5 + 6x^3 - 2x^2 + 27`"
   ]
  },
  {
   "cell_type": "code",
   "execution_count": 6,
   "id": "854085f7",
   "metadata": {},
   "outputs": [],
   "source": [
    "# Solução de 1.a) - lista de tuplos: [(7,5), (6,3), (-2,2), (27,0)] ou [27, 0, 2, 6 ,7] -> no ultimo, indice é o expoente do x\n",
    "#polinómio = [termo]\n",
    "#termo = (coeficiente, grau)\n",
    "\n",
    "polinomio1 = [(1,1)]\n",
    "polinomio2 = [(2,1), (1,0)]\n",
    "polinomio3 = [(7,5), (6,3), (-2,2), (27,0)]"
   ]
  },
  {
   "cell_type": "markdown",
   "id": "fdc3ff66",
   "metadata": {},
   "source": [
    "#### b) Defina uma função, ou funções, que pede ao utilizador a informação necessária para criar um polinómio, cria esse polinómio e devolve-o como resultado"
   ]
  },
  {
   "cell_type": "code",
   "execution_count": 7,
   "id": "fb44546a",
   "metadata": {},
   "outputs": [
    {
     "data": {
      "text/plain": [
       "[(2, 3), (5, 2), (0, 1), (3, 0)]"
      ]
     },
     "execution_count": 7,
     "metadata": {},
     "output_type": "execute_result"
    }
   ],
   "source": [
    "# Solução de 1.b)\n",
    "def criaPolIn():\n",
    "    g = int(input(\"Grau do polinómio\"))\n",
    "    lst = []\n",
    "    while g >= 0:\n",
    "        c = int(input(\"Coeficiente do termo de grau:\" + str(g)))\n",
    "        lst.append((c,g))\n",
    "        g = g - 1\n",
    "    return lst\n",
    "\n",
    "criaPolIn()"
   ]
  },
  {
   "cell_type": "markdown",
   "id": "9d3475e4",
   "metadata": {},
   "source": [
    "#### c) Defina uma função que calcula o valor do polinómio dado um valor de `x`"
   ]
  },
  {
   "cell_type": "code",
   "execution_count": 8,
   "id": "c4c8dc32",
   "metadata": {},
   "outputs": [
    {
     "data": {
      "text/plain": [
       "1872"
      ]
     },
     "execution_count": 8,
     "metadata": {},
     "output_type": "execute_result"
    }
   ],
   "source": [
    "# Solução de 1.c)\n",
    "def pot(p,x): #p é lista de tuplos\n",
    "    res = 1\n",
    "    while x>0:\n",
    "        res = p * res\n",
    "        x = x-1\n",
    "    return res\n",
    "def calpol(l, z):\n",
    "    sum = 0\n",
    "    for termo in l:\n",
    "        c,g = termo\n",
    "        sum = c*pot(z, g) + sum\n",
    "    return sum\n",
    "calpol(polinomio3, 3)"
   ]
  },
  {
   "cell_type": "code",
   "execution_count": 9,
   "id": "fd19ec64",
   "metadata": {},
   "outputs": [
    {
     "name": "stdout",
     "output_type": "stream",
     "text": [
      "38\n",
      "291\n",
      "1872\n",
      "7547\n",
      "22602\n",
      "55683\n",
      "119636\n",
      "232347\n",
      "417582\n"
     ]
    }
   ],
   "source": [
    "for i in range(1, 10):\n",
    "    print(calpol(polinomio3, i))"
   ]
  },
  {
   "cell_type": "markdown",
   "id": "5fa6de75",
   "metadata": {},
   "source": [
    "#### d) Defina uma função que imprima no monitor o polinómio"
   ]
  },
  {
   "cell_type": "code",
   "execution_count": 10,
   "id": "b0716c72",
   "metadata": {},
   "outputs": [
    {
     "name": "stdout",
     "output_type": "stream",
     "text": [
      " + 7x^5 + 6x^3 -2x^2 + 27\n"
     ]
    }
   ],
   "source": [
    "# Solução de 1.d)\n",
    "def verPolinomio(p):\n",
    "    for m in p:\n",
    "        c, g = m\n",
    "        if g != 0:\n",
    "            if c > 0:\n",
    "                print(\" + \" + str(c) + \"x^\" + str(g), end=\"\")\n",
    "            elif c < 0:\n",
    "                print(\" \" + str(c) + \"x^\" + str(g), end=\"\")\n",
    "        else:\n",
    "            print(\" + \" + str(c))\n",
    "\n",
    "    return\n",
    "verPolinomio (polinomio3)"
   ]
  },
  {
   "cell_type": "markdown",
   "id": "beb31acc",
   "metadata": {},
   "source": [
    "#### e) Defina uma função que calcula o grau de um polinómio dado"
   ]
  },
  {
   "cell_type": "code",
   "execution_count": 55,
   "id": "09816d6e",
   "metadata": {},
   "outputs": [
    {
     "name": "stdout",
     "output_type": "stream",
     "text": [
      "8\n",
      "8\n",
      "5\n",
      "9\n"
     ]
    }
   ],
   "source": [
    "# Solução de 1.e)\n",
    "def grauPolinomio(p):\n",
    "    maior = 0\n",
    "    for term in p:\n",
    "        for grau in term:\n",
    "            coef, grau = term\n",
    "            if grau > maior:\n",
    "                maior = grau\n",
    "    return maior\n",
    "\n",
    "print(grauPolinomio([(3,8),(2,7),(0,6)]))\n",
    "print(grauPolinomio([(2,8),(2,7),(0,6)]))\n",
    "print(grauPolinomio(polinomio3))\n",
    "print(grauPolinomio([(10,8),(2,9),(0,6)]))\n"
   ]
  },
  {
   "cell_type": "markdown",
   "id": "0cfe33d8",
   "metadata": {},
   "source": [
    "#### f) Defina uma função que imprime no monitor uma tabela com n linhas: x | p(x)"
   ]
  },
  {
   "cell_type": "code",
   "execution_count": 12,
   "id": "3619f63c",
   "metadata": {},
   "outputs": [
    {
     "name": "stdout",
     "output_type": "stream",
     "text": [
      "0 | 27\n",
      "1 | 38\n",
      "2 | 291\n",
      "3 | 1872\n",
      "4 | 7547\n",
      "None\n"
     ]
    }
   ],
   "source": [
    "# Solução de 1.f)\n",
    "def tabela(p, linhas):\n",
    "    i = 0\n",
    "    while i < linhas:\n",
    "        print(i, \"|\", calpol(p,i))\n",
    "        i = i + 1\n",
    "    return\n",
    "print(tabela(polinomio3,5))"
   ]
  },
  {
   "cell_type": "markdown",
   "id": "df16478c",
   "metadata": {},
   "source": [
    "#### g) Define uma função que dado um polinómio calcula a sua derivada"
   ]
  },
  {
   "cell_type": "code",
   "execution_count": 73,
   "id": "6bd99681",
   "metadata": {},
   "outputs": [
    {
     "name": "stdout",
     "output_type": "stream",
     "text": [
      "[(24, 7), (14, 6)]\n",
      "[(16, 7), (14, 6)]\n",
      "[(35, 4), (18, 2), (-4, 1)]\n",
      "[(80, 7), (18, 8)]\n"
     ]
    }
   ],
   "source": [
    "# Solução de 1.g)\n",
    "def derivarPolinomio(p):\n",
    "    newlst = []\n",
    "    for term in p:\n",
    "        coef, grau = term\n",
    "        if grau != 0 and coef != 0:\n",
    "            newc = coef*grau\n",
    "            newg = grau - 1\n",
    "            newlst.append((newc,newg))\n",
    "    return newlst\n",
    "print(derivarPolinomio([(3,8),(2,7),(0,6)]))\n",
    "print(derivarPolinomio([(2,8),(2,7),(0,6)]))\n",
    "print(derivarPolinomio(polinomio3))\n",
    "print(derivarPolinomio([(10,8),(2,9),(0,6)]))\n"
   ]
  },
  {
   "cell_type": "markdown",
   "id": "a582ac17",
   "metadata": {},
   "source": [
    "#### h) Defina uma função para guardar um polinómio num ficheiro"
   ]
  },
  {
   "cell_type": "code",
   "execution_count": 14,
   "id": "0302b9f6",
   "metadata": {},
   "outputs": [],
   "source": [
    "filename= \"heheficheiro.txt\"\n",
    "file = open(filename, \"w\")\n",
    "file.write(\"hehe txt\")\n",
    "file.close()"
   ]
  },
  {
   "cell_type": "code",
   "execution_count": 15,
   "id": "4185c112",
   "metadata": {},
   "outputs": [
    {
     "name": "stdout",
     "output_type": "stream",
     "text": [
      "['hehe txt']\n"
     ]
    }
   ],
   "source": [
    "file2 = open(filename, \"r\")\n",
    "print(file2.readlines(1))\n",
    "file2.close()\n"
   ]
  },
  {
   "cell_type": "code",
   "execution_count": 7,
   "id": "2b3f58dd",
   "metadata": {},
   "outputs": [],
   "source": [
    "# Solução de 1.h)\n",
    "def guardarPolinomio(p, fnome):\n",
    "    file = open(fnome, \"w\")\n",
    "    for pol in p:\n",
    "        for termo in pol:\n",
    "            c,g = termo\n",
    "            file.write(str(c) + \";\" + str(g))\n",
    "            file.write(\" @ \")\n",
    "        file.write(\"\\n\")\n",
    "    file.close()\n",
    "    return"
   ]
  },
  {
   "cell_type": "code",
   "execution_count": 8,
   "id": "3bd5edf6",
   "metadata": {},
   "outputs": [],
   "source": [
    "guardarPolinomio([polinomio1, polinomio2, polinomio3], \"polinómios.txt\")"
   ]
  },
  {
   "cell_type": "markdown",
   "id": "7f7d1410",
   "metadata": {},
   "source": [
    "#### i) Defina uma função para recuperar um polinómio dum ficheiro"
   ]
  },
  {
   "cell_type": "code",
   "execution_count": 93,
   "id": "72081c41",
   "metadata": {},
   "outputs": [
    {
     "name": "stdout",
     "output_type": "stream",
     "text": [
      "[[('1', '1 ')], [('2', '1 '), (' 1', '0 ')], [('7', '5 '), (' 6', '3 '), (' -2', '2 '), (' 27', '0 ')]]\n"
     ]
    }
   ],
   "source": [
    "# Solução de 1.i)\n",
    "def recuperarPolinomio(fnome):\n",
    "    file2 = open(fnome, \"r\")\n",
    "    biglst = []\n",
    "    for line in file2:\n",
    "        lst = []\n",
    "        termos = line.split(\"@\")\n",
    "        for t in termos:\n",
    "            elems = t.split(\";\")\n",
    "            if len(elems)==2:\n",
    "                coe=elems[0]\n",
    "                grau = elems[1]\n",
    "                term = (coe, grau)\n",
    "                lst.append(term)\n",
    "        biglst.append(lst)\n",
    "    return biglst\n",
    "listapol2 = recuperarPolinomio(\"polinómios.txt\")\n",
    "print(listapol2)\n"
   ]
  },
  {
   "cell_type": "markdown",
   "id": "fed2fbc4",
   "metadata": {},
   "source": [
    "#### j) Baseando-se nas funções até agora criadas, crie novas funções para manipular listas de polinómios: criar, ver, guardar e recuperar"
   ]
  },
  {
   "cell_type": "code",
   "execution_count": 20,
   "id": "986c8587",
   "metadata": {},
   "outputs": [],
   "source": [
    "# Solução de 1.j)\n",
    "# ..."
   ]
  },
  {
   "cell_type": "markdown",
   "id": "6bea73df",
   "metadata": {},
   "source": [
    "#### k) Junte todas as funções num módulo, `polinomios.py`, e usa-o num pequeno programa exemplo"
   ]
  },
  {
   "cell_type": "code",
   "execution_count": 17,
   "id": "82a2401b",
   "metadata": {},
   "outputs": [
    {
     "name": "stdout",
     "output_type": "stream",
     "text": [
      "Solução do polinómio:\n",
      " 138\n",
      "--x--\n",
      "\n",
      "O grau do polinómio é:\n",
      " -> 3\n",
      "--x--\n",
      "\n",
      "O programa fechou\n"
     ]
    }
   ],
   "source": [
    "# Solução de 1.k)\n",
    "\n",
    "import polinomios as pol\n",
    "\n",
    "n = 1\n",
    "while n != 0:\n",
    "    n = int(input(\"Opção\"))\n",
    "    if n == 1: #cria pol\n",
    "        p = pol.criaPolIn()\n",
    "        print(\"Polinómio Criado:\\n\", p)\n",
    "        print(\"--x--\\n\")\n",
    "    if n == 2: #calcular pol\n",
    "        x = int(input(\"Defina um x\"))\n",
    "        c = pol.calpol(p, x)\n",
    "        print(\"Solução do polinómio:\\n\", c)\n",
    "        print(\"--x--\\n\")\n",
    "    if n == 3: #ver pol sem ser em lista\n",
    "        print(\"O polinómio é:\\n\")\n",
    "        print(pol.verPolinomio(p))\n",
    "        print(\"--x--\\n\")\n",
    "    if n == 4: #grau pol\n",
    "        print(\"O grau do polinómio é:\\n ->\", pol.grauPolinomio(p))\n",
    "        print(\"--x--\\n\")\n",
    "    if n == 5: #res pol de 0 a n\n",
    "        u = int(input(\"x máximo\"))\n",
    "        print(\"resultado em tabela:\\n\", pol.tabela(p,u))\n",
    "        print(\"--x--\\n\")\n",
    "    if n == 6: #derivar pol\n",
    "        print(\"A derivada do polinómio é:\\n\", pol.derivarPolinomio(p))\n",
    "        print(\"--x--\\n\")\n",
    "    if n == 7: #guardar pol\n",
    "        print(\"O polinómio foi guardado.\\n->\", p) \n",
    "        pol.guardarPolinomio([p], \"polinómios.txt\")\n",
    "        print(\"--x--\\n\")\n",
    "    if n == 8: #recuperar pol\n",
    "        print(\"O polinómio recuperado é:\\n\", pol.recuperarPolinomio(\"polinómios.txt\"))\n",
    "        print(\"--x--\\n\")\n",
    "\n",
    "if n == 0:\n",
    "    print(\"O programa fechou\")"
   ]
  },
  {
   "cell_type": "markdown",
   "id": "4193a91b",
   "metadata": {},
   "source": [
    "### TPC5: Análise de dados: doença cardíaca\n",
    "\n",
    "Descarregue o ficheiro de dados: `myheart.csv`\n",
    "Crie um programa em Python, conjunto de funções, que responda às seguintes questões:\n",
    "* Crie uma função que lê a informação do ficheiro para um modelo, previamente pensado em memória;\n",
    "* Crie uma função que calcula a distribuição da doença por sexo;\n",
    "* Crie uma função que calcula a distribuição da doença por escalões etários. Considere os seguintes escalões: [30-34], [35-39], [40-44], ...\n",
    "* Crie uma função que calcula a distribuição da doença por níveis de colesterol. Considere um nível igual a um intervalo de 10 unidades, comece no limite inferior e crie os níveis necessários até abranger o limite superior;\n",
    "* Crie uma função que imprima na forma de uma tabela uma distribuição;\n",
    "* Especifique um programa que ao executar apresenta as tabelas correspondentes às distribuições pedidas."
   ]
  },
  {
   "cell_type": "code",
   "execution_count": 1,
   "id": "37075835",
   "metadata": {},
   "outputs": [
    {
     "name": "stdout",
     "output_type": "stream",
     "text": [
      "\n",
      "--x--\n",
      "ESCOLHA UMA OPÇÃO:\n",
      "1 - Leitura das informações de uma determinada pessoa;\n",
      "2 - Distribuição de doentes por sexo;\n",
      "3 - Distribuição de doentes por escalões etários;\n",
      "4 - Distribuição de doentes por níveis de colesterol;\n",
      "5 - Imprime na forma de uma tabela uma distribuição;\n",
      "0 - Sair.\n",
      "\n",
      "---> A opção escolhida foi: 5\n",
      "1 - Distribuição de doentes por sexo\n",
      "2 - Distribuição de doentes por idade\n",
      "3 - Distribuição de doentes por colesterol\n",
      "0 - Sair\n",
      "____\n",
      "\n",
      "\n",
      "--- A opção escolhida foi: 1 ---\n",
      "\n",
      "sexo         |  nº de pessoas\n",
      "Feminino     |  40\n",
      "Masculino    |  428\n",
      "\n",
      "--- A opção escolhida foi: 2 ---\n",
      "\n",
      "idades   |  nº de pessoas\n",
      "[30,34]  |  6\n",
      "[35,39]  |  19\n",
      "[40,44]  |  27\n",
      "[45,49]  |  51\n",
      "[50,54]  |  83\n",
      "[55,59]  |  114\n",
      "[60,64]  |  101\n",
      "[65,70]  |  45\n",
      "[70,74]  |  17\n",
      "[75,80]  |  5\n",
      "\n",
      "--- A opção escolhida foi: 3 ---\n",
      "\n",
      "colesterol   |  nº de pessoas\n",
      "[0,99]       |  152\n",
      "[100,109]    |  1\n",
      "[110,119]    |  3\n",
      "[120,129]    |  2\n",
      "[130,139]    |  1\n",
      "[140,149]    |  2\n",
      "[150,159]    |  3\n",
      "[160,169]    |  6\n",
      "[170,179]    |  10\n",
      "[180,189]    |  8\n",
      "[190,199]    |  11\n",
      "[200,...]    |  269\n",
      "\n",
      "A opção fechou\n",
      "None\n",
      "\n",
      "--x--\n",
      "ESCOLHA UMA OPÇÃO:\n",
      "1 - Leitura das informações de uma determinada pessoa;\n",
      "2 - Distribuição de doentes por sexo;\n",
      "3 - Distribuição de doentes por escalões etários;\n",
      "4 - Distribuição de doentes por níveis de colesterol;\n",
      "5 - Imprime na forma de uma tabela uma distribuição;\n",
      "0 - Sair.\n",
      "\n",
      "---> A opção escolhida foi: 0\n",
      "O programa fechou\n"
     ]
    }
   ],
   "source": [
    "import csv\n",
    "import funcoestpc5 as f\n",
    "\n",
    "menu = \"\"\"\n",
    "--x--\n",
    "ESCOLHA UMA OPÇÃO:\n",
    "1 - Leitura das informações de uma determinada pessoa;\n",
    "2 - Distribuição de doentes por sexo;\n",
    "3 - Distribuição de doentes por escalões etários;\n",
    "4 - Distribuição de doentes por níveis de colesterol;\n",
    "5 - Imprime na forma de uma tabela uma distribuição;\n",
    "0 - Sair.\n",
    "\"\"\"\n",
    "n = 1\n",
    "print(menu)\n",
    "while n != 0:\n",
    "    n = int(input(\"Selecione a opção\"))\n",
    "    print(\"---> A opção escolhida foi:\", n)\n",
    "    if n == 1:\n",
    "        l = int(input(\"Qual a linha que deseja verificar?\"))\n",
    "        def ler(l):\n",
    "            with open(\"myheart.csv\", \"r\") as file:\n",
    "                reader = csv.DictReader(file)\n",
    "                lst = []\n",
    "                for line in reader:\n",
    "                    lst.append(dict(line))\n",
    "                file.close()\n",
    "            return lst[l]\n",
    "        print(\"Dicionário da linha\", l,\":\\n->\", ler(l))\n",
    "        print(menu)\n",
    "\n",
    "    if n == 2:\n",
    "        def disds():\n",
    "            with open(\"myheart.csv\", \"r\") as file:\n",
    "                reader = csv.reader(file)\n",
    "                dic = {\"Feminino \":0, \"Masculino\":0}\n",
    "                lst1f = []       \n",
    "                lst1m = []        \n",
    "                for line in reader:\n",
    "                    if line[1] == str(\"F\"):\n",
    "                        if line[5] == str(\"1\"):\n",
    "                            lst1f.append(1)\n",
    "                        dic.update({\"Feminino \": len(lst1f)})\n",
    "                    if line[1] == str(\"M\"):\n",
    "                        if line[5] == str(\"1\"):\n",
    "                            lst1m.append(1)\n",
    "                        dic.update({\"Masculino\": len(lst1m)})\n",
    "                file.close()\n",
    "            return dic\n",
    "        print(\"Distribuição de doentes por sexo:\\n->\", disds())\n",
    "        print(menu)\n",
    "\n",
    "    if n == 3:\n",
    "        def ordenar(v):\n",
    "            return v[0]\n",
    "        def distid(i):\n",
    "            file = open(i)\n",
    "            line = csv.reader(file)\n",
    "            dic = {}\n",
    "            for elem in line:\n",
    "                if elem[0] in dic.keys():\n",
    "                    if elem[5] == str(\"1\"):\n",
    "                        dic[elem[0]] = dic[elem[0]] + 1\n",
    "                else:\n",
    "                    if elem[5] == str(\"1\"):\n",
    "                        dic[elem[0]] = 1\n",
    "                valores = list(dic.items())\n",
    "                valores.sort(key = ordenar)\n",
    "            s1 = \"[30,34]\", sum(x[1] for x in valores[0:4])\n",
    "            s2 = \"[35,39]\", sum(x[1] for x in valores[4:9])\n",
    "            s3 = \"[40,44]\", sum(x[1] for x in valores[9:14])\n",
    "            s4 = \"[45,49]\", sum(x[1] for x in valores[14:19])\n",
    "            s5 = \"[50,54]\", sum(x[1] for x in valores[19:24])\n",
    "            s6 = \"[55,59]\", sum(x[1] for x in valores[24:29])\n",
    "            s7 = \"[60,64]\", sum(x[1] for x in valores[29:34])\n",
    "            s8 = \"[65,70]\", sum(x[1] for x in valores[34:39])\n",
    "            s9 = \"[70,74]\", sum(x[1] for x in valores[39:44])\n",
    "            s10 = \"[75,80]\", sum(x[1] for x in valores[44:])\n",
    "            dicf = dict([s1,s2,s3,s4,s5,s6,s7,s8,s9,s10])\n",
    "            file.close()\n",
    "            return dicf\n",
    "        print(\"Distribuição de doentes por escalão etário:\\n->\", distid(\"myheart.csv\"))\n",
    "        print(menu)\n",
    "\n",
    "    if n == 4:\n",
    "        def distcol(i):\n",
    "            file23 = open(i)\n",
    "            line = csv.reader(file23)\n",
    "            dic = {}\n",
    "            for elem in line:\n",
    "                if elem[3] in dic.keys():\n",
    "                    if elem[5] == str(\"1\"):\n",
    "                        dic[elem[3]] = dic[elem[3]] + 1\n",
    "                else:\n",
    "                    if elem[5] == str(\"1\"):\n",
    "                        dic[elem[3]] = 1\n",
    "            val = list(dic.items())\n",
    "            u = sorted([(x[0], x[1]) for x in val])\n",
    "            a1 = \"[0,99]   \", sum(x[1] for x in u[:1])\n",
    "            a2 = \"[100,109]\", sum(x[1] for x in u[1:2])\n",
    "            a3 = \"[110,119]\", sum(x[1] for x in u[2:5])\n",
    "            a4 = \"[120,129]\", sum(x[1] for x in u[5:7])\n",
    "            a5 = \"[130,139]\", sum(x[1] for x in u[7:8])\n",
    "            a6 = \"[140,149]\", sum(x[1] for x in u[8:10])\n",
    "            a7 = \"[150,159]\", sum(x[1] for x in u[10:13])\n",
    "            a8 = \"[160,169]\", sum(x[1] for x in u[13:17])\n",
    "            a9 = \"[170,179]\", sum(x[1] for x in u[17:24])\n",
    "            a10 = \"[180,189]\", sum(x[1] for x in u[24:29])\n",
    "            a11 = \"[190,199]\", sum(x[1] for x in u[29:36])\n",
    "            a12 = \"[200,...]\", sum(x[1] for x in u[36:])\n",
    "            dicio = dict([a1,a2,a3,a4,a5,a6,a7,a8,a9,a10,a11,a12])\n",
    "            file23.close()\n",
    "            return dicio\n",
    "        print(\"Distribuição de doentes por colesterol:\\n->\", distcol(\"myheart.csv\"))\n",
    "        print(menu)\n",
    "\n",
    "    if n == 5:\n",
    "        print(\"1 - Distribuição de doentes por sexo\\n2 - Distribuição de doentes por idade\\n3 - Distribuição de doentes por colesterol\\n0 - Sair\\n____\\n\")\n",
    "        j = 1\n",
    "        def tab(j):\n",
    "            while j != 0:\n",
    "                j = int(input(\"Qual a distribuição que deseja ver?\"))\n",
    "                if j == 1:\n",
    "                    print(\"\\n--- A opção escolhida foi: 1 ---\\n\")\n",
    "                    print(\"sexo         |  nº de pessoas\")\n",
    "                    dic4 = list(f.disds().items())\n",
    "                    for i in dic4:\n",
    "                        print(i[0], \"   | \", i[1])\n",
    "                \n",
    "                if j == 2:\n",
    "                    print(\"\\n--- A opção escolhida foi: 2 ---\\n\")\n",
    "                    print(\"idades   |  nº de pessoas\")\n",
    "                    dic5 = list(f.distid(\"myheart.csv\").items())\n",
    "                    for i in dic5:\n",
    "                        print(i[0], \" | \", i[1])\n",
    "                if j == 3:\n",
    "                    print(\"\\n--- A opção escolhida foi: 3 ---\\n\")\n",
    "                    print(\"colesterol   |  nº de pessoas\")\n",
    "                    dic6 = list(f.distcol(\"myheart.csv\").items())\n",
    "                    for i in dic6:\n",
    "                        print(i[0], \"   | \", i[1])\n",
    "            if j == 0:\n",
    "                print(\"\\nA opção fechou\")\n",
    "        print(tab(j))\n",
    "        print(menu)\n",
    "if n == 0:\n",
    "    print(\"O programa fechou\")"
   ]
  }
 ],
 "metadata": {
  "kernelspec": {
   "display_name": "Python 3.10.7 64-bit",
   "language": "python",
   "name": "python3"
  },
  "language_info": {
   "codemirror_mode": {
    "name": "ipython",
    "version": 3
   },
   "file_extension": ".py",
   "mimetype": "text/x-python",
   "name": "python",
   "nbconvert_exporter": "python",
   "pygments_lexer": "ipython3",
   "version": "3.10.7"
  },
  "vscode": {
   "interpreter": {
    "hash": "a9cff5a362bc38ef45d817ae74b1af54d6a076e3d773891282bce078b815ba34"
   }
  }
 },
 "nbformat": 4,
 "nbformat_minor": 5
}
